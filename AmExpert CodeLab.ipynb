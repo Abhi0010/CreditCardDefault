{
 "cells": [
  {
   "cell_type": "code",
   "execution_count": 2,
   "id": "dda8693f",
   "metadata": {},
   "outputs": [],
   "source": [
    "import numpy as np\n",
    "import pandas as pd\n",
    "import matplotlib.pyplot as plt\n",
    "%matplotlib inline\n",
    "import seaborn as sns"
   ]
  },
  {
   "cell_type": "code",
   "execution_count": 3,
   "id": "d4c7ec20",
   "metadata": {},
   "outputs": [],
   "source": [
    "df=pd.read_csv(\"train.csv\")"
   ]
  },
  {
   "cell_type": "code",
   "execution_count": 4,
   "id": "40ca4eca",
   "metadata": {},
   "outputs": [
    {
     "data": {
      "text/html": [
       "<div>\n",
       "<style scoped>\n",
       "    .dataframe tbody tr th:only-of-type {\n",
       "        vertical-align: middle;\n",
       "    }\n",
       "\n",
       "    .dataframe tbody tr th {\n",
       "        vertical-align: top;\n",
       "    }\n",
       "\n",
       "    .dataframe thead th {\n",
       "        text-align: right;\n",
       "    }\n",
       "</style>\n",
       "<table border=\"1\" class=\"dataframe\">\n",
       "  <thead>\n",
       "    <tr style=\"text-align: right;\">\n",
       "      <th></th>\n",
       "      <th>customer_id</th>\n",
       "      <th>name</th>\n",
       "      <th>age</th>\n",
       "      <th>gender</th>\n",
       "      <th>owns_car</th>\n",
       "      <th>owns_house</th>\n",
       "      <th>no_of_children</th>\n",
       "      <th>net_yearly_income</th>\n",
       "      <th>no_of_days_employed</th>\n",
       "      <th>occupation_type</th>\n",
       "      <th>total_family_members</th>\n",
       "      <th>migrant_worker</th>\n",
       "      <th>yearly_debt_payments</th>\n",
       "      <th>credit_limit</th>\n",
       "      <th>credit_limit_used(%)</th>\n",
       "      <th>credit_score</th>\n",
       "      <th>prev_defaults</th>\n",
       "      <th>default_in_last_6months</th>\n",
       "      <th>credit_card_default</th>\n",
       "    </tr>\n",
       "  </thead>\n",
       "  <tbody>\n",
       "    <tr>\n",
       "      <th>0</th>\n",
       "      <td>CST_115179</td>\n",
       "      <td>ita Bose</td>\n",
       "      <td>46</td>\n",
       "      <td>F</td>\n",
       "      <td>N</td>\n",
       "      <td>Y</td>\n",
       "      <td>0.0</td>\n",
       "      <td>107934.04</td>\n",
       "      <td>612.0</td>\n",
       "      <td>Unknown</td>\n",
       "      <td>1.0</td>\n",
       "      <td>1.0</td>\n",
       "      <td>33070.28</td>\n",
       "      <td>18690.93</td>\n",
       "      <td>73</td>\n",
       "      <td>544.0</td>\n",
       "      <td>2</td>\n",
       "      <td>1</td>\n",
       "      <td>1</td>\n",
       "    </tr>\n",
       "    <tr>\n",
       "      <th>1</th>\n",
       "      <td>CST_121920</td>\n",
       "      <td>Alper Jonathan</td>\n",
       "      <td>29</td>\n",
       "      <td>M</td>\n",
       "      <td>N</td>\n",
       "      <td>Y</td>\n",
       "      <td>0.0</td>\n",
       "      <td>109862.62</td>\n",
       "      <td>2771.0</td>\n",
       "      <td>Laborers</td>\n",
       "      <td>2.0</td>\n",
       "      <td>0.0</td>\n",
       "      <td>15329.53</td>\n",
       "      <td>37745.19</td>\n",
       "      <td>52</td>\n",
       "      <td>857.0</td>\n",
       "      <td>0</td>\n",
       "      <td>0</td>\n",
       "      <td>0</td>\n",
       "    </tr>\n",
       "    <tr>\n",
       "      <th>2</th>\n",
       "      <td>CST_109330</td>\n",
       "      <td>Umesh Desai</td>\n",
       "      <td>37</td>\n",
       "      <td>M</td>\n",
       "      <td>N</td>\n",
       "      <td>Y</td>\n",
       "      <td>0.0</td>\n",
       "      <td>230153.17</td>\n",
       "      <td>204.0</td>\n",
       "      <td>Laborers</td>\n",
       "      <td>2.0</td>\n",
       "      <td>0.0</td>\n",
       "      <td>48416.60</td>\n",
       "      <td>41598.36</td>\n",
       "      <td>43</td>\n",
       "      <td>650.0</td>\n",
       "      <td>0</td>\n",
       "      <td>0</td>\n",
       "      <td>0</td>\n",
       "    </tr>\n",
       "    <tr>\n",
       "      <th>3</th>\n",
       "      <td>CST_128288</td>\n",
       "      <td>Rie</td>\n",
       "      <td>39</td>\n",
       "      <td>F</td>\n",
       "      <td>N</td>\n",
       "      <td>Y</td>\n",
       "      <td>0.0</td>\n",
       "      <td>122325.82</td>\n",
       "      <td>11941.0</td>\n",
       "      <td>Core staff</td>\n",
       "      <td>2.0</td>\n",
       "      <td>0.0</td>\n",
       "      <td>22574.36</td>\n",
       "      <td>32627.76</td>\n",
       "      <td>20</td>\n",
       "      <td>754.0</td>\n",
       "      <td>0</td>\n",
       "      <td>0</td>\n",
       "      <td>0</td>\n",
       "    </tr>\n",
       "    <tr>\n",
       "      <th>4</th>\n",
       "      <td>CST_151355</td>\n",
       "      <td>McCool</td>\n",
       "      <td>46</td>\n",
       "      <td>M</td>\n",
       "      <td>Y</td>\n",
       "      <td>Y</td>\n",
       "      <td>0.0</td>\n",
       "      <td>387286.00</td>\n",
       "      <td>1459.0</td>\n",
       "      <td>Core staff</td>\n",
       "      <td>1.0</td>\n",
       "      <td>0.0</td>\n",
       "      <td>38282.95</td>\n",
       "      <td>52950.64</td>\n",
       "      <td>75</td>\n",
       "      <td>927.0</td>\n",
       "      <td>0</td>\n",
       "      <td>0</td>\n",
       "      <td>0</td>\n",
       "    </tr>\n",
       "  </tbody>\n",
       "</table>\n",
       "</div>"
      ],
      "text/plain": [
       "  customer_id            name  age gender owns_car owns_house  no_of_children  \\\n",
       "0  CST_115179        ita Bose   46      F        N          Y             0.0   \n",
       "1  CST_121920  Alper Jonathan   29      M        N          Y             0.0   \n",
       "2  CST_109330     Umesh Desai   37      M        N          Y             0.0   \n",
       "3  CST_128288             Rie   39      F        N          Y             0.0   \n",
       "4  CST_151355          McCool   46      M        Y          Y             0.0   \n",
       "\n",
       "   net_yearly_income  no_of_days_employed occupation_type  \\\n",
       "0          107934.04                612.0         Unknown   \n",
       "1          109862.62               2771.0        Laborers   \n",
       "2          230153.17                204.0        Laborers   \n",
       "3          122325.82              11941.0      Core staff   \n",
       "4          387286.00               1459.0      Core staff   \n",
       "\n",
       "   total_family_members  migrant_worker  yearly_debt_payments  credit_limit  \\\n",
       "0                   1.0             1.0              33070.28      18690.93   \n",
       "1                   2.0             0.0              15329.53      37745.19   \n",
       "2                   2.0             0.0              48416.60      41598.36   \n",
       "3                   2.0             0.0              22574.36      32627.76   \n",
       "4                   1.0             0.0              38282.95      52950.64   \n",
       "\n",
       "   credit_limit_used(%)  credit_score  prev_defaults  default_in_last_6months  \\\n",
       "0                    73         544.0              2                        1   \n",
       "1                    52         857.0              0                        0   \n",
       "2                    43         650.0              0                        0   \n",
       "3                    20         754.0              0                        0   \n",
       "4                    75         927.0              0                        0   \n",
       "\n",
       "   credit_card_default  \n",
       "0                    1  \n",
       "1                    0  \n",
       "2                    0  \n",
       "3                    0  \n",
       "4                    0  "
      ]
     },
     "execution_count": 4,
     "metadata": {},
     "output_type": "execute_result"
    }
   ],
   "source": [
    "df.head()"
   ]
  },
  {
   "cell_type": "code",
   "execution_count": 5,
   "id": "7ab28293",
   "metadata": {},
   "outputs": [
    {
     "name": "stdout",
     "output_type": "stream",
     "text": [
      "<class 'pandas.core.frame.DataFrame'>\n",
      "RangeIndex: 45528 entries, 0 to 45527\n",
      "Data columns (total 19 columns):\n",
      " #   Column                   Non-Null Count  Dtype  \n",
      "---  ------                   --------------  -----  \n",
      " 0   customer_id              45528 non-null  object \n",
      " 1   name                     45528 non-null  object \n",
      " 2   age                      45528 non-null  int64  \n",
      " 3   gender                   45528 non-null  object \n",
      " 4   owns_car                 44981 non-null  object \n",
      " 5   owns_house               45528 non-null  object \n",
      " 6   no_of_children           44754 non-null  float64\n",
      " 7   net_yearly_income        45528 non-null  float64\n",
      " 8   no_of_days_employed      45065 non-null  float64\n",
      " 9   occupation_type          45528 non-null  object \n",
      " 10  total_family_members     45445 non-null  float64\n",
      " 11  migrant_worker           45441 non-null  float64\n",
      " 12  yearly_debt_payments     45433 non-null  float64\n",
      " 13  credit_limit             45528 non-null  float64\n",
      " 14  credit_limit_used(%)     45528 non-null  int64  \n",
      " 15  credit_score             45520 non-null  float64\n",
      " 16  prev_defaults            45528 non-null  int64  \n",
      " 17  default_in_last_6months  45528 non-null  int64  \n",
      " 18  credit_card_default      45528 non-null  int64  \n",
      "dtypes: float64(8), int64(5), object(6)\n",
      "memory usage: 6.6+ MB\n"
     ]
    }
   ],
   "source": [
    "df.info()"
   ]
  },
  {
   "cell_type": "code",
   "execution_count": 6,
   "id": "62087914",
   "metadata": {},
   "outputs": [
    {
     "data": {
      "text/html": [
       "<div>\n",
       "<style scoped>\n",
       "    .dataframe tbody tr th:only-of-type {\n",
       "        vertical-align: middle;\n",
       "    }\n",
       "\n",
       "    .dataframe tbody tr th {\n",
       "        vertical-align: top;\n",
       "    }\n",
       "\n",
       "    .dataframe thead th {\n",
       "        text-align: right;\n",
       "    }\n",
       "</style>\n",
       "<table border=\"1\" class=\"dataframe\">\n",
       "  <thead>\n",
       "    <tr style=\"text-align: right;\">\n",
       "      <th></th>\n",
       "      <th>age</th>\n",
       "      <th>no_of_children</th>\n",
       "      <th>net_yearly_income</th>\n",
       "      <th>no_of_days_employed</th>\n",
       "      <th>total_family_members</th>\n",
       "      <th>migrant_worker</th>\n",
       "      <th>yearly_debt_payments</th>\n",
       "      <th>credit_limit</th>\n",
       "      <th>credit_limit_used(%)</th>\n",
       "      <th>credit_score</th>\n",
       "      <th>prev_defaults</th>\n",
       "      <th>default_in_last_6months</th>\n",
       "      <th>credit_card_default</th>\n",
       "    </tr>\n",
       "  </thead>\n",
       "  <tbody>\n",
       "    <tr>\n",
       "      <th>count</th>\n",
       "      <td>45528.000000</td>\n",
       "      <td>44754.000000</td>\n",
       "      <td>4.552800e+04</td>\n",
       "      <td>45065.000000</td>\n",
       "      <td>45445.000000</td>\n",
       "      <td>45441.000000</td>\n",
       "      <td>45433.000000</td>\n",
       "      <td>4.552800e+04</td>\n",
       "      <td>45528.00000</td>\n",
       "      <td>45520.000000</td>\n",
       "      <td>45528.000000</td>\n",
       "      <td>45528.000000</td>\n",
       "      <td>45528.000000</td>\n",
       "    </tr>\n",
       "    <tr>\n",
       "      <th>mean</th>\n",
       "      <td>38.993411</td>\n",
       "      <td>0.420655</td>\n",
       "      <td>2.006556e+05</td>\n",
       "      <td>67609.289293</td>\n",
       "      <td>2.158081</td>\n",
       "      <td>0.179111</td>\n",
       "      <td>31796.965311</td>\n",
       "      <td>4.354842e+04</td>\n",
       "      <td>52.23502</td>\n",
       "      <td>782.791257</td>\n",
       "      <td>0.060710</td>\n",
       "      <td>0.050540</td>\n",
       "      <td>0.081203</td>\n",
       "    </tr>\n",
       "    <tr>\n",
       "      <th>std</th>\n",
       "      <td>9.543990</td>\n",
       "      <td>0.724097</td>\n",
       "      <td>6.690740e+05</td>\n",
       "      <td>139323.524434</td>\n",
       "      <td>0.911572</td>\n",
       "      <td>0.383450</td>\n",
       "      <td>17269.727234</td>\n",
       "      <td>1.487847e+05</td>\n",
       "      <td>29.37691</td>\n",
       "      <td>100.619746</td>\n",
       "      <td>0.264629</td>\n",
       "      <td>0.219059</td>\n",
       "      <td>0.273149</td>\n",
       "    </tr>\n",
       "    <tr>\n",
       "      <th>min</th>\n",
       "      <td>23.000000</td>\n",
       "      <td>0.000000</td>\n",
       "      <td>2.717061e+04</td>\n",
       "      <td>2.000000</td>\n",
       "      <td>1.000000</td>\n",
       "      <td>0.000000</td>\n",
       "      <td>2237.470000</td>\n",
       "      <td>4.003140e+03</td>\n",
       "      <td>0.00000</td>\n",
       "      <td>500.000000</td>\n",
       "      <td>0.000000</td>\n",
       "      <td>0.000000</td>\n",
       "      <td>0.000000</td>\n",
       "    </tr>\n",
       "    <tr>\n",
       "      <th>25%</th>\n",
       "      <td>31.000000</td>\n",
       "      <td>0.000000</td>\n",
       "      <td>1.263458e+05</td>\n",
       "      <td>936.000000</td>\n",
       "      <td>2.000000</td>\n",
       "      <td>0.000000</td>\n",
       "      <td>19231.140000</td>\n",
       "      <td>2.397381e+04</td>\n",
       "      <td>27.00000</td>\n",
       "      <td>704.000000</td>\n",
       "      <td>0.000000</td>\n",
       "      <td>0.000000</td>\n",
       "      <td>0.000000</td>\n",
       "    </tr>\n",
       "    <tr>\n",
       "      <th>50%</th>\n",
       "      <td>39.000000</td>\n",
       "      <td>0.000000</td>\n",
       "      <td>1.717149e+05</td>\n",
       "      <td>2224.000000</td>\n",
       "      <td>2.000000</td>\n",
       "      <td>0.000000</td>\n",
       "      <td>29081.650000</td>\n",
       "      <td>3.568804e+04</td>\n",
       "      <td>54.00000</td>\n",
       "      <td>786.000000</td>\n",
       "      <td>0.000000</td>\n",
       "      <td>0.000000</td>\n",
       "      <td>0.000000</td>\n",
       "    </tr>\n",
       "    <tr>\n",
       "      <th>75%</th>\n",
       "      <td>47.000000</td>\n",
       "      <td>1.000000</td>\n",
       "      <td>2.406038e+05</td>\n",
       "      <td>5817.000000</td>\n",
       "      <td>3.000000</td>\n",
       "      <td>0.000000</td>\n",
       "      <td>40561.150000</td>\n",
       "      <td>5.343576e+04</td>\n",
       "      <td>78.00000</td>\n",
       "      <td>867.000000</td>\n",
       "      <td>0.000000</td>\n",
       "      <td>0.000000</td>\n",
       "      <td>0.000000</td>\n",
       "    </tr>\n",
       "    <tr>\n",
       "      <th>max</th>\n",
       "      <td>55.000000</td>\n",
       "      <td>9.000000</td>\n",
       "      <td>1.407590e+08</td>\n",
       "      <td>365252.000000</td>\n",
       "      <td>10.000000</td>\n",
       "      <td>1.000000</td>\n",
       "      <td>328112.860000</td>\n",
       "      <td>3.112997e+07</td>\n",
       "      <td>99.00000</td>\n",
       "      <td>949.000000</td>\n",
       "      <td>2.000000</td>\n",
       "      <td>1.000000</td>\n",
       "      <td>1.000000</td>\n",
       "    </tr>\n",
       "  </tbody>\n",
       "</table>\n",
       "</div>"
      ],
      "text/plain": [
       "                age  no_of_children  net_yearly_income  no_of_days_employed  \\\n",
       "count  45528.000000    44754.000000       4.552800e+04         45065.000000   \n",
       "mean      38.993411        0.420655       2.006556e+05         67609.289293   \n",
       "std        9.543990        0.724097       6.690740e+05        139323.524434   \n",
       "min       23.000000        0.000000       2.717061e+04             2.000000   \n",
       "25%       31.000000        0.000000       1.263458e+05           936.000000   \n",
       "50%       39.000000        0.000000       1.717149e+05          2224.000000   \n",
       "75%       47.000000        1.000000       2.406038e+05          5817.000000   \n",
       "max       55.000000        9.000000       1.407590e+08        365252.000000   \n",
       "\n",
       "       total_family_members  migrant_worker  yearly_debt_payments  \\\n",
       "count          45445.000000    45441.000000          45433.000000   \n",
       "mean               2.158081        0.179111          31796.965311   \n",
       "std                0.911572        0.383450          17269.727234   \n",
       "min                1.000000        0.000000           2237.470000   \n",
       "25%                2.000000        0.000000          19231.140000   \n",
       "50%                2.000000        0.000000          29081.650000   \n",
       "75%                3.000000        0.000000          40561.150000   \n",
       "max               10.000000        1.000000         328112.860000   \n",
       "\n",
       "       credit_limit  credit_limit_used(%)  credit_score  prev_defaults  \\\n",
       "count  4.552800e+04           45528.00000  45520.000000   45528.000000   \n",
       "mean   4.354842e+04              52.23502    782.791257       0.060710   \n",
       "std    1.487847e+05              29.37691    100.619746       0.264629   \n",
       "min    4.003140e+03               0.00000    500.000000       0.000000   \n",
       "25%    2.397381e+04              27.00000    704.000000       0.000000   \n",
       "50%    3.568804e+04              54.00000    786.000000       0.000000   \n",
       "75%    5.343576e+04              78.00000    867.000000       0.000000   \n",
       "max    3.112997e+07              99.00000    949.000000       2.000000   \n",
       "\n",
       "       default_in_last_6months  credit_card_default  \n",
       "count             45528.000000         45528.000000  \n",
       "mean                  0.050540             0.081203  \n",
       "std                   0.219059             0.273149  \n",
       "min                   0.000000             0.000000  \n",
       "25%                   0.000000             0.000000  \n",
       "50%                   0.000000             0.000000  \n",
       "75%                   0.000000             0.000000  \n",
       "max                   1.000000             1.000000  "
      ]
     },
     "execution_count": 6,
     "metadata": {},
     "output_type": "execute_result"
    }
   ],
   "source": [
    "df.describe()"
   ]
  },
  {
   "cell_type": "code",
   "execution_count": 7,
   "id": "097e7e88",
   "metadata": {},
   "outputs": [
    {
     "data": {
      "text/plain": [
       "customer_id                  0\n",
       "name                         0\n",
       "age                          0\n",
       "gender                       0\n",
       "owns_car                   547\n",
       "owns_house                   0\n",
       "no_of_children             774\n",
       "net_yearly_income            0\n",
       "no_of_days_employed        463\n",
       "occupation_type              0\n",
       "total_family_members        83\n",
       "migrant_worker              87\n",
       "yearly_debt_payments        95\n",
       "credit_limit                 0\n",
       "credit_limit_used(%)         0\n",
       "credit_score                 8\n",
       "prev_defaults                0\n",
       "default_in_last_6months      0\n",
       "credit_card_default          0\n",
       "dtype: int64"
      ]
     },
     "execution_count": 7,
     "metadata": {},
     "output_type": "execute_result"
    }
   ],
   "source": [
    "df.isnull().sum()"
   ]
  },
  {
   "cell_type": "code",
   "execution_count": 8,
   "id": "a72b51cd",
   "metadata": {},
   "outputs": [
    {
     "data": {
      "text/plain": [
       "Index(['customer_id', 'name', 'age', 'gender', 'owns_car', 'owns_house',\n",
       "       'no_of_children', 'net_yearly_income', 'no_of_days_employed',\n",
       "       'occupation_type', 'total_family_members', 'migrant_worker',\n",
       "       'yearly_debt_payments', 'credit_limit', 'credit_limit_used(%)',\n",
       "       'credit_score', 'prev_defaults', 'default_in_last_6months',\n",
       "       'credit_card_default'],\n",
       "      dtype='object')"
      ]
     },
     "execution_count": 8,
     "metadata": {},
     "output_type": "execute_result"
    }
   ],
   "source": [
    "df.columns"
   ]
  },
  {
   "cell_type": "code",
   "execution_count": 9,
   "id": "26ddcaa6",
   "metadata": {},
   "outputs": [],
   "source": [
    "df.dropna(how='all',inplace=True)"
   ]
  },
  {
   "cell_type": "code",
   "execution_count": 10,
   "id": "f456863e",
   "metadata": {},
   "outputs": [
    {
     "data": {
      "text/plain": [
       "customer_id                  0\n",
       "name                         0\n",
       "age                          0\n",
       "gender                       0\n",
       "owns_car                   547\n",
       "owns_house                   0\n",
       "no_of_children             774\n",
       "net_yearly_income            0\n",
       "no_of_days_employed        463\n",
       "occupation_type              0\n",
       "total_family_members        83\n",
       "migrant_worker              87\n",
       "yearly_debt_payments        95\n",
       "credit_limit                 0\n",
       "credit_limit_used(%)         0\n",
       "credit_score                 8\n",
       "prev_defaults                0\n",
       "default_in_last_6months      0\n",
       "credit_card_default          0\n",
       "dtype: int64"
      ]
     },
     "execution_count": 10,
     "metadata": {},
     "output_type": "execute_result"
    }
   ],
   "source": [
    "df.isnull().sum()"
   ]
  },
  {
   "cell_type": "code",
   "execution_count": 11,
   "id": "1ed0cd75",
   "metadata": {},
   "outputs": [
    {
     "data": {
      "image/png": "[encoded data removed]",
      "text/plain": [
       "<Figure size 504x360 with 1 Axes>"
      ]
     },
     "metadata": {
      "needs_background": "light"
     },
     "output_type": "display_data"
    },
    {
     "data": {
      "image/png": "[encoded data removed]",
      "text/plain": [
       "<Figure size 504x360 with 1 Axes>"
      ]
     },
     "metadata": {
      "needs_background": "light"
     },
     "output_type": "display_data"
    },
    {
     "data": {
      "image/png": "[encoded data removed]",
      "text/plain": [
       "<Figure size 504x360 with 1 Axes>"
      ]
     },
     "metadata": {
      "needs_background": "light"
     },
     "output_type": "display_data"
    },
    {
     "data": {
      "image/png": "[encoded data removed]",
      "text/plain": [
       "<Figure size 504x360 with 1 Axes>"
      ]
     },
     "metadata": {
      "needs_background": "light"
     },
     "output_type": "display_data"
    },
    {
     "data": {
      "image/png": "[encoded data removed]",
      "text/plain": [
       "<Figure size 504x360 with 1 Axes>"
      ]
     },
     "metadata": {
      "needs_background": "light"
     },
     "output_type": "display_data"
    },
    {
     "data": {
      "image/png": "[encoded data removed]",
      "text/plain": [
       "<Figure size 504x360 with 1 Axes>"
      ]
     },
     "metadata": {
      "needs_background": "light"
     },
     "output_type": "display_data"
    },
    {
     "data": {
      "image/png": "[encoded data removed]",
      "text/plain": [
       "<Figure size 504x360 with 1 Axes>"
      ]
     },
     "metadata": {
      "needs_background": "light"
     },
     "output_type": "display_data"
    },
    {
     "data": {
      "image/png": "[encoded data removed]",
      "text/plain": [
       "<Figure size 504x360 with 1 Axes>"
      ]
     },
     "metadata": {
      "needs_background": "light"
     },
     "output_type": "display_data"
    },
    {
     "data": {
      "image/png": "[encoded data removed]",
      "text/plain": [
       "<Figure size 504x360 with 1 Axes>"
      ]
     },
     "metadata": {
      "needs_background": "light"
     },
     "output_type": "display_data"
    },
    {
     "data": {
      "image/png": "[encoded data removed]",
      "text/plain": [
       "<Figure size 504x360 with 1 Axes>"
      ]
     },
     "metadata": {
      "needs_background": "light"
     },
     "output_type": "display_data"
    }
   ],
   "source": [
    "columns=['age','no_of_children','net_yearly_income',\n",
    "'no_of_days_employed',\n",
    " 'total_family_members',\n",
    " 'yearly_debt_payments','credit_limit', 'credit_limit_used(%)',\n",
    "       'credit_score', 'prev_defaults']\n",
    "\n",
    "for column in columns:\n",
    "        plt.figure(figsize=(7,5))\n",
    "        plt.ticklabel_format(style='plain')\n",
    "        df.boxplot([column],grid=False,)"
   ]
  },
  {
   "cell_type": "markdown",
   "id": "ba2e71ff",
   "metadata": {},
   "source": [
    "## Removing Outliers"
   ]
  },
  {
   "cell_type": "code",
   "execution_count": 12,
   "id": "c973863a",
   "metadata": {},
   "outputs": [
    {
     "name": "stdout",
     "output_type": "stream",
     "text": [
      "<class 'pandas.core.frame.DataFrame'>\n",
      "Int64Index: 45528 entries, 0 to 45527\n",
      "Data columns (total 19 columns):\n",
      " #   Column                   Non-Null Count  Dtype  \n",
      "---  ------                   --------------  -----  \n",
      " 0   customer_id              45528 non-null  object \n",
      " 1   name                     45528 non-null  object \n",
      " 2   age                      45528 non-null  int64  \n",
      " 3   gender                   45528 non-null  object \n",
      " 4   owns_car                 44981 non-null  object \n",
      " 5   owns_house               45528 non-null  object \n",
      " 6   no_of_children           44754 non-null  float64\n",
      " 7   net_yearly_income        45528 non-null  float64\n",
      " 8   no_of_days_employed      45065 non-null  float64\n",
      " 9   occupation_type          45528 non-null  object \n",
      " 10  total_family_members     45445 non-null  float64\n",
      " 11  migrant_worker           45441 non-null  float64\n",
      " 12  yearly_debt_payments     45433 non-null  float64\n",
      " 13  credit_limit             45528 non-null  float64\n",
      " 14  credit_limit_used(%)     45528 non-null  int64  \n",
      " 15  credit_score             45520 non-null  float64\n",
      " 16  prev_defaults            45528 non-null  int64  \n",
      " 17  default_in_last_6months  45528 non-null  int64  \n",
      " 18  credit_card_default      45528 non-null  int64  \n",
      "dtypes: float64(8), int64(5), object(6)\n",
      "memory usage: 6.9+ MB\n"
     ]
    }
   ],
   "source": [
    "df.info()"
   ]
  },
  {
   "cell_type": "code",
   "execution_count": 13,
   "id": "12fd3641",
   "metadata": {},
   "outputs": [],
   "source": [
    "df.drop(index=df[df[\"net_yearly_income\"]>=40000000].index,inplace=True)"
   ]
  },
  {
   "cell_type": "code",
   "execution_count": 14,
   "id": "9bf94910",
   "metadata": {},
   "outputs": [
    {
     "data": {
      "text/plain": [
       "<AxesSubplot:xlabel='net_yearly_income'>"
      ]
     },
     "execution_count": 14,
     "metadata": {},
     "output_type": "execute_result"
    },
    {
     "data": {
      "image/png": "[encoded data removed]",
      "text/plain": [
       "<Figure size 432x288 with 1 Axes>"
      ]
     },
     "metadata": {
      "needs_background": "light"
     },
     "output_type": "display_data"
    }
   ],
   "source": [
    "sns.boxplot(x=df['net_yearly_income'])"
   ]
  },
  {
   "cell_type": "code",
   "execution_count": 15,
   "id": "1a32e64d",
   "metadata": {},
   "outputs": [
    {
     "data": {
      "text/plain": [
       "8098"
      ]
     },
     "execution_count": 15,
     "metadata": {},
     "output_type": "execute_result"
    }
   ],
   "source": [
    "len(df[df[\"no_of_days_employed\"]>=300000])"
   ]
  },
  {
   "cell_type": "code",
   "execution_count": 16,
   "id": "fe4aec72",
   "metadata": {},
   "outputs": [],
   "source": [
    "df.drop(index=df[df[\"no_of_days_employed\"]>=300000].index,inplace=True)"
   ]
  },
  {
   "cell_type": "code",
   "execution_count": 17,
   "id": "ee81228a",
   "metadata": {},
   "outputs": [
    {
     "data": {
      "text/plain": [
       "<AxesSubplot:xlabel='credit_limit'>"
      ]
     },
     "execution_count": 17,
     "metadata": {},
     "output_type": "execute_result"
    },
    {
     "data": {
      "image/png": "[encoded data removed]",
      "text/plain": [
       "<Figure size 432x288 with 1 Axes>"
      ]
     },
     "metadata": {
      "needs_background": "light"
     },
     "output_type": "display_data"
    }
   ],
   "source": [
    "sns.boxplot(x=df['credit_limit'])"
   ]
  },
  {
   "cell_type": "code",
   "execution_count": 18,
   "id": "96687e61",
   "metadata": {},
   "outputs": [
    {
     "name": "stderr",
     "output_type": "stream",
     "text": [
      "C:\\Users\\abhi2\\anaconda3\\lib\\site-packages\\seaborn\\_decorators.py:36: FutureWarning: Pass the following variable as a keyword arg: x. From version 0.12, the only valid positional argument will be `data`, and passing other arguments without an explicit keyword will result in an error or misinterpretation.\n",
      "  warnings.warn(\n"
     ]
    },
    {
     "data": {
      "text/plain": [
       "<AxesSubplot:xlabel='credit_card_default', ylabel='count'>"
      ]
     },
     "execution_count": 18,
     "metadata": {},
     "output_type": "execute_result"
    },
    {
     "data": {
      "image/png": "[encoded data removed]",
      "text/plain": [
       "<Figure size 432x288 with 1 Axes>"
      ]
     },
     "metadata": {
      "needs_background": "light"
     },
     "output_type": "display_data"
    }
   ],
   "source": [
    "sns.countplot(df['credit_card_default'])"
   ]
  },
  {
   "cell_type": "markdown",
   "id": "b6b26b64",
   "metadata": {},
   "source": [
    "## One hot and label encoding"
   ]
  },
  {
   "cell_type": "code",
   "execution_count": 19,
   "id": "4116ef79",
   "metadata": {},
   "outputs": [
    {
     "data": {
      "text/plain": [
       "Laborers                 8133\n",
       "Unknown                  6201\n",
       "Sales staff              4725\n",
       "Core staff               4062\n",
       "Managers                 3168\n",
       "Drivers                  2747\n",
       "High skill tech staff    1682\n",
       "Accountants              1474\n",
       "Medicine staff           1275\n",
       "Security staff           1025\n",
       "Cooking staff             902\n",
       "Cleaning staff            665\n",
       "Private service staff     387\n",
       "Low-skill Laborers        336\n",
       "Waiters/barmen staff      203\n",
       "Secretaries               199\n",
       "Realty agents             101\n",
       "HR staff                   78\n",
       "IT staff                   66\n",
       "Name: occupation_type, dtype: int64"
      ]
     },
     "execution_count": 19,
     "metadata": {},
     "output_type": "execute_result"
    }
   ],
   "source": [
    "df['occupation_type'].value_counts()"
   ]
  },
  {
   "cell_type": "code",
   "execution_count": 20,
   "id": "371c6756",
   "metadata": {},
   "outputs": [
    {
     "data": {
      "text/plain": [
       "F      23369\n",
       "M      14059\n",
       "XNA        1\n",
       "Name: gender, dtype: int64"
      ]
     },
     "execution_count": 20,
     "metadata": {},
     "output_type": "execute_result"
    }
   ],
   "source": [
    "df['gender'].value_counts()"
   ]
  },
  {
   "cell_type": "code",
   "execution_count": 21,
   "id": "882f6900",
   "metadata": {},
   "outputs": [],
   "source": [
    "#remove the row with XNA gender\n",
    "df.drop(index=df[df[\"gender\"]=='XNA'].index,inplace=True)"
   ]
  },
  {
   "cell_type": "code",
   "execution_count": 22,
   "id": "9dda09d1",
   "metadata": {},
   "outputs": [
    {
     "data": {
      "text/plain": [
       "N    23219\n",
       "Y    13758\n",
       "Name: owns_car, dtype: int64"
      ]
     },
     "execution_count": 22,
     "metadata": {},
     "output_type": "execute_result"
    }
   ],
   "source": [
    "df['owns_car'].value_counts()"
   ]
  },
  {
   "cell_type": "code",
   "execution_count": 23,
   "id": "59f1a352",
   "metadata": {},
   "outputs": [],
   "source": [
    "#Fill null values with most occuring value\n",
    "df['owns_car'].fillna('N',inplace=True)"
   ]
  },
  {
   "cell_type": "code",
   "execution_count": 24,
   "id": "6a4844ac",
   "metadata": {},
   "outputs": [
    {
     "data": {
      "text/plain": [
       "Y    25523\n",
       "N    11905\n",
       "Name: owns_house, dtype: int64"
      ]
     },
     "execution_count": 24,
     "metadata": {},
     "output_type": "execute_result"
    }
   ],
   "source": [
    "df['owns_house'].value_counts()"
   ]
  },
  {
   "cell_type": "code",
   "execution_count": 25,
   "id": "068642ed",
   "metadata": {},
   "outputs": [],
   "source": [
    "df=pd.get_dummies(df, columns = ['occupation_type'],drop_first=True)"
   ]
  },
  {
   "cell_type": "code",
   "execution_count": 26,
   "id": "f1721ce7",
   "metadata": {},
   "outputs": [],
   "source": [
    "from sklearn import preprocessing\n",
    "label_encoder = preprocessing.LabelEncoder()"
   ]
  },
  {
   "cell_type": "code",
   "execution_count": 27,
   "id": "9b0617f7",
   "metadata": {},
   "outputs": [],
   "source": [
    "df['gender']= label_encoder.fit_transform(df['gender'])\n",
    "df['owns_car']= label_encoder.fit_transform(df['owns_car'])\n",
    "df['owns_house']= label_encoder.fit_transform(df['owns_house'])"
   ]
  },
  {
   "cell_type": "code",
   "execution_count": 28,
   "id": "3b5aa820",
   "metadata": {},
   "outputs": [
    {
     "data": {
      "text/plain": [
       "array([0, 1])"
      ]
     },
     "execution_count": 28,
     "metadata": {},
     "output_type": "execute_result"
    }
   ],
   "source": [
    "df['owns_car'].unique()"
   ]
  },
  {
   "cell_type": "markdown",
   "id": "7e4c263b",
   "metadata": {},
   "source": [
    "## Removing null values"
   ]
  },
  {
   "cell_type": "code",
   "execution_count": 29,
   "id": "3f87899f",
   "metadata": {},
   "outputs": [
    {
     "data": {
      "text/plain": [
       "customer_id                                0\n",
       "name                                       0\n",
       "age                                        0\n",
       "gender                                     0\n",
       "owns_car                                   0\n",
       "owns_house                                 0\n",
       "no_of_children                           644\n",
       "net_yearly_income                          0\n",
       "no_of_days_employed                      463\n",
       "total_family_members                      67\n",
       "migrant_worker                            63\n",
       "yearly_debt_payments                      84\n",
       "credit_limit                               0\n",
       "credit_limit_used(%)                       0\n",
       "credit_score                               7\n",
       "prev_defaults                              0\n",
       "default_in_last_6months                    0\n",
       "credit_card_default                        0\n",
       "occupation_type_Cleaning staff             0\n",
       "occupation_type_Cooking staff              0\n",
       "occupation_type_Core staff                 0\n",
       "occupation_type_Drivers                    0\n",
       "occupation_type_HR staff                   0\n",
       "occupation_type_High skill tech staff      0\n",
       "occupation_type_IT staff                   0\n",
       "occupation_type_Laborers                   0\n",
       "occupation_type_Low-skill Laborers         0\n",
       "occupation_type_Managers                   0\n",
       "occupation_type_Medicine staff             0\n",
       "occupation_type_Private service staff      0\n",
       "occupation_type_Realty agents              0\n",
       "occupation_type_Sales staff                0\n",
       "occupation_type_Secretaries                0\n",
       "occupation_type_Security staff             0\n",
       "occupation_type_Unknown                    0\n",
       "occupation_type_Waiters/barmen staff       0\n",
       "dtype: int64"
      ]
     },
     "execution_count": 29,
     "metadata": {},
     "output_type": "execute_result"
    }
   ],
   "source": [
    "df.isnull().sum()"
   ]
  },
  {
   "cell_type": "code",
   "execution_count": 30,
   "id": "dfc0eea3",
   "metadata": {},
   "outputs": [],
   "source": [
    "df['no_of_children'].fillna(df['no_of_children'].median(),inplace=True)\n",
    "df['no_of_days_employed'].fillna(df['no_of_days_employed'].median(),inplace=True)\n",
    "df['total_family_members'].fillna(df['total_family_members'].median(),inplace=True)\n",
    "df['migrant_worker'].fillna(df['migrant_worker'].median(),inplace=True)\n",
    "df['yearly_debt_payments'].fillna(df['yearly_debt_payments'].median(),inplace=True)\n",
    "df['credit_score'].fillna(df['credit_score'].median(),inplace=True)"
   ]
  },
  {
   "cell_type": "code",
   "execution_count": 31,
   "id": "ff06368a",
   "metadata": {},
   "outputs": [
    {
     "name": "stdout",
     "output_type": "stream",
     "text": [
      "<class 'pandas.core.frame.DataFrame'>\n",
      "Int64Index: 37428 entries, 0 to 45527\n",
      "Data columns (total 36 columns):\n",
      " #   Column                                 Non-Null Count  Dtype  \n",
      "---  ------                                 --------------  -----  \n",
      " 0   customer_id                            37428 non-null  object \n",
      " 1   name                                   37428 non-null  object \n",
      " 2   age                                    37428 non-null  int64  \n",
      " 3   gender                                 37428 non-null  int32  \n",
      " 4   owns_car                               37428 non-null  int32  \n",
      " 5   owns_house                             37428 non-null  int32  \n",
      " 6   no_of_children                         37428 non-null  float64\n",
      " 7   net_yearly_income                      37428 non-null  float64\n",
      " 8   no_of_days_employed                    37428 non-null  float64\n",
      " 9   total_family_members                   37428 non-null  float64\n",
      " 10  migrant_worker                         37428 non-null  float64\n",
      " 11  yearly_debt_payments                   37428 non-null  float64\n",
      " 12  credit_limit                           37428 non-null  float64\n",
      " 13  credit_limit_used(%)                   37428 non-null  int64  \n",
      " 14  credit_score                           37428 non-null  float64\n",
      " 15  prev_defaults                          37428 non-null  int64  \n",
      " 16  default_in_last_6months                37428 non-null  int64  \n",
      " 17  credit_card_default                    37428 non-null  int64  \n",
      " 18  occupation_type_Cleaning staff         37428 non-null  uint8  \n",
      " 19  occupation_type_Cooking staff          37428 non-null  uint8  \n",
      " 20  occupation_type_Core staff             37428 non-null  uint8  \n",
      " 21  occupation_type_Drivers                37428 non-null  uint8  \n",
      " 22  occupation_type_HR staff               37428 non-null  uint8  \n",
      " 23  occupation_type_High skill tech staff  37428 non-null  uint8  \n",
      " 24  occupation_type_IT staff               37428 non-null  uint8  \n",
      " 25  occupation_type_Laborers               37428 non-null  uint8  \n",
      " 26  occupation_type_Low-skill Laborers     37428 non-null  uint8  \n",
      " 27  occupation_type_Managers               37428 non-null  uint8  \n",
      " 28  occupation_type_Medicine staff         37428 non-null  uint8  \n",
      " 29  occupation_type_Private service staff  37428 non-null  uint8  \n",
      " 30  occupation_type_Realty agents          37428 non-null  uint8  \n",
      " 31  occupation_type_Sales staff            37428 non-null  uint8  \n",
      " 32  occupation_type_Secretaries            37428 non-null  uint8  \n",
      " 33  occupation_type_Security staff         37428 non-null  uint8  \n",
      " 34  occupation_type_Unknown                37428 non-null  uint8  \n",
      " 35  occupation_type_Waiters/barmen staff   37428 non-null  uint8  \n",
      "dtypes: float64(8), int32(3), int64(5), object(2), uint8(18)\n",
      "memory usage: 5.6+ MB\n"
     ]
    }
   ],
   "source": [
    "df.info()"
   ]
  },
  {
   "cell_type": "code",
   "execution_count": 32,
   "id": "cb07b842",
   "metadata": {},
   "outputs": [
    {
     "data": {
      "text/plain": [
       "Index(['customer_id', 'name', 'age', 'gender', 'owns_car', 'owns_house',\n",
       "       'no_of_children', 'net_yearly_income', 'no_of_days_employed',\n",
       "       'total_family_members', 'migrant_worker', 'yearly_debt_payments',\n",
       "       'credit_limit', 'credit_limit_used(%)', 'credit_score', 'prev_defaults',\n",
       "       'default_in_last_6months', 'credit_card_default',\n",
       "       'occupation_type_Cleaning staff', 'occupation_type_Cooking staff',\n",
       "       'occupation_type_Core staff', 'occupation_type_Drivers',\n",
       "       'occupation_type_HR staff', 'occupation_type_High skill tech staff',\n",
       "       'occupation_type_IT staff', 'occupation_type_Laborers',\n",
       "       'occupation_type_Low-skill Laborers', 'occupation_type_Managers',\n",
       "       'occupation_type_Medicine staff',\n",
       "       'occupation_type_Private service staff',\n",
       "       'occupation_type_Realty agents', 'occupation_type_Sales staff',\n",
       "       'occupation_type_Secretaries', 'occupation_type_Security staff',\n",
       "       'occupation_type_Unknown', 'occupation_type_Waiters/barmen staff'],\n",
       "      dtype='object')"
      ]
     },
     "execution_count": 32,
     "metadata": {},
     "output_type": "execute_result"
    }
   ],
   "source": [
    "df.columns"
   ]
  },
  {
   "cell_type": "code",
   "execution_count": 33,
   "id": "663bc706",
   "metadata": {},
   "outputs": [],
   "source": [
    "col=['age', 'gender', 'owns_car', 'owns_house',\n",
    "       'no_of_children', 'net_yearly_income', 'no_of_days_employed',\n",
    "       'total_family_members', 'migrant_worker', 'yearly_debt_payments',\n",
    "       'credit_limit', 'credit_limit_used(%)', 'credit_score', 'prev_defaults',\n",
    "       'default_in_last_6months',\n",
    "       'occupation_type_Cleaning staff', 'occupation_type_Cooking staff',\n",
    "       'occupation_type_Core staff', 'occupation_type_Drivers',\n",
    "       'occupation_type_HR staff', 'occupation_type_High skill tech staff',\n",
    "       'occupation_type_IT staff', 'occupation_type_Laborers',\n",
    "       'occupation_type_Low-skill Laborers', 'occupation_type_Managers',\n",
    "       'occupation_type_Medicine staff',\n",
    "       'occupation_type_Private service staff',\n",
    "       'occupation_type_Realty agents', 'occupation_type_Sales staff',\n",
    "       'occupation_type_Secretaries', 'occupation_type_Security staff',\n",
    "       'occupation_type_Unknown', 'occupation_type_Waiters/barmen staff']"
   ]
  },
  {
   "cell_type": "code",
   "execution_count": 34,
   "id": "7639363d",
   "metadata": {},
   "outputs": [],
   "source": [
    "col=['age', 'net_yearly_income', 'no_of_days_employed',\n",
    "       'total_family_members', 'migrant_worker', 'yearly_debt_payments',\n",
    "       'credit_limit', 'credit_limit_used(%)', 'credit_score', 'prev_defaults',\n",
    "       'default_in_last_6months',\n",
    "       'occupation_type_Cleaning staff', 'occupation_type_Cooking staff',\n",
    "       'occupation_type_Core staff', 'occupation_type_Drivers',\n",
    "       'occupation_type_HR staff', 'occupation_type_High skill tech staff',\n",
    "       'occupation_type_IT staff', 'occupation_type_Laborers',\n",
    "       'occupation_type_Low-skill Laborers', 'occupation_type_Managers',\n",
    "       'occupation_type_Medicine staff',\n",
    "       'occupation_type_Private service staff',\n",
    "       'occupation_type_Realty agents', 'occupation_type_Sales staff',\n",
    "       'occupation_type_Secretaries', 'occupation_type_Security staff',\n",
    "       'occupation_type_Unknown', 'occupation_type_Waiters/barmen staff']"
   ]
  },
  {
   "cell_type": "markdown",
   "id": "3b2f365c",
   "metadata": {},
   "source": [
    "## Normalization"
   ]
  },
  {
   "cell_type": "code",
   "execution_count": 35,
   "id": "b41ebdd3",
   "metadata": {},
   "outputs": [],
   "source": [
    "from scipy.stats import zscore\n",
    "df['net_yearly_income']=zscore(df['net_yearly_income'])\n",
    "df['no_of_days_employed']=zscore(df['no_of_days_employed'])\n",
    "df['yearly_debt_payments']=zscore(df['yearly_debt_payments'])\n",
    "df['credit_limit']=zscore(df['credit_limit'])\n",
    "df['credit_score']=zscore(df['credit_score'])"
   ]
  },
  {
   "cell_type": "markdown",
   "id": "9d35fc81",
   "metadata": {},
   "source": [
    "## Building the model"
   ]
  },
  {
   "cell_type": "code",
   "execution_count": 36,
   "id": "c3770548",
   "metadata": {},
   "outputs": [],
   "source": [
    "from sklearn.model_selection import train_test_split\n",
    "\n",
    "X=df[col] \n",
    "y=df['credit_card_default'].astype('int')\n",
    "\n",
    "# Split dataset into training set and test set\n",
    "X_train, X_test, y_train, y_test = train_test_split(X, y, test_size=0.2,random_state=0) "
   ]
  },
  {
   "cell_type": "code",
   "execution_count": 466,
   "id": "6e51057a",
   "metadata": {},
   "outputs": [],
   "source": [
    "# # from imblearn.combine import SMOTEENN\n",
    "# # smenn=SMOTEENN()\n",
    "# # X_train, y_train=smenn.fit_resample(X_train,y_train)\n",
    "# from imblearn.over_sampling import SMOTE\n",
    "# smote = SMOTE()\n",
    "# X_train, y_train=smote.fit_resample(X_train,y_train)"
   ]
  },
  {
   "cell_type": "markdown",
   "id": "134fcd95",
   "metadata": {},
   "source": [
    "## Logistic Regression"
   ]
  },
  {
   "cell_type": "code",
   "execution_count": 42,
   "id": "705efd79",
   "metadata": {},
   "outputs": [],
   "source": [
    "from sklearn.linear_model import LogisticRegression\n",
    "classifier1 = LogisticRegression(max_iter = 2500)\n",
    "classifier1.fit(X_train, y_train)\n",
    "y_pred = classifier1.predict(X_test)"
   ]
  },
  {
   "cell_type": "code",
   "execution_count": 37,
   "id": "05440184",
   "metadata": {},
   "outputs": [],
   "source": [
    "# from sklearn.linear_model import LogisticRegression\n",
    "# classifier = LogisticRegression(C= 0.0018329807108324356, max_iter = 1000, penalty = 'l2', solver= 'newton-cg')\n",
    "# classifier.fit(X_train, y_train)\n",
    "# y_pred = classifier.predict(X_test)"
   ]
  },
  {
   "cell_type": "code",
   "execution_count": 43,
   "id": "942bacc2",
   "metadata": {},
   "outputs": [
    {
     "name": "stdout",
     "output_type": "stream",
     "text": [
      "              precision    recall  f1-score   support\n",
      "\n",
      "           0       0.98      1.00      0.99      6840\n",
      "           1       0.95      0.81      0.87       646\n",
      "\n",
      "    accuracy                           0.98      7486\n",
      "   macro avg       0.97      0.90      0.93      7486\n",
      "weighted avg       0.98      0.98      0.98      7486\n",
      "\n",
      "Accuracy: 0.9799625968474486\n",
      "Precision score: 0.9525547445255474\n",
      "Recall score: 0.8080495356037152\n"
     ]
    }
   ],
   "source": [
    "from sklearn import metrics\n",
    "from sklearn.metrics import classification_report, confusion_matrix\n",
    "print(classification_report(y_test, y_pred))\n",
    "print(\"Accuracy:\",metrics.accuracy_score(y_test, y_pred))\n",
    "print(\"Precision score:\",metrics.precision_score(y_test, y_pred))\n",
    "print(\"Recall score:\",metrics.recall_score(y_test, y_pred))"
   ]
  },
  {
   "cell_type": "code",
   "execution_count": 44,
   "id": "555387e6",
   "metadata": {},
   "outputs": [],
   "source": [
    "score=100*(metrics.f1_score(y_test,y_pred,average='macro'))"
   ]
  },
  {
   "cell_type": "code",
   "execution_count": 45,
   "id": "2aae00a0",
   "metadata": {},
   "outputs": [
    {
     "data": {
      "text/plain": [
       "93.17424690588958"
      ]
     },
     "execution_count": 45,
     "metadata": {},
     "output_type": "execute_result"
    }
   ],
   "source": [
    "score #online score-91.29351"
   ]
  },
  {
   "cell_type": "markdown",
   "id": "daa2af67",
   "metadata": {},
   "source": [
    "## Random Forest"
   ]
  },
  {
   "cell_type": "code",
   "execution_count": 473,
   "id": "7181c595",
   "metadata": {},
   "outputs": [],
   "source": [
    "from sklearn.ensemble import RandomForestClassifier\n",
    "\n",
    "classifier2=RandomForestClassifier()\n",
    "classifier2.fit(X_train,y_train)\n",
    "y_pred=classifier2.predict(X_test)"
   ]
  },
  {
   "cell_type": "code",
   "execution_count": 272,
   "id": "445d00d8",
   "metadata": {},
   "outputs": [
    {
     "name": "stdout",
     "output_type": "stream",
     "text": [
      "Fitting 3 folds for each of 180 candidates, totalling 540 fits\n"
     ]
    },
    {
     "data": {
      "text/plain": [
       "{'max_depth': 5,\n",
       " 'min_samples_leaf': 10,\n",
       " 'min_samples_split': 10,\n",
       " 'n_estimators': 100}"
      ]
     },
     "execution_count": 272,
     "metadata": {},
     "output_type": "execute_result"
    }
   ],
   "source": [
    "# from sklearn.model_selection import GridSearchCV\n",
    "# from sklearn.ensemble import RandomForestClassifier\n",
    "\n",
    "# param_grid = {\n",
    "#     'max_depth': [5,7,9,11],\n",
    "#     'min_samples_leaf': [10,20,50],\n",
    "#     'min_samples_split': [10, 20,50],\n",
    "#     'n_estimators': [100, 200, 300, 400,500]\n",
    "# }\n",
    "# rf = RandomForestClassifier()\n",
    "# grid_search = GridSearchCV(estimator = rf, param_grid = param_grid, \n",
    "#                           cv = 3, n_jobs = -1, verbose = 2)\n",
    "# grid_search.fit(X_train, y_train)\n",
    "# grid_search.best_params_"
   ]
  },
  {
   "cell_type": "code",
   "execution_count": 37,
   "id": "f58553eb",
   "metadata": {},
   "outputs": [],
   "source": [
    "from sklearn.ensemble import RandomForestClassifier\n",
    "\n",
    "classifier2=RandomForestClassifier(max_depth= 5,\n",
    " min_samples_leaf= 10,\n",
    " min_samples_split= 10,\n",
    " n_estimators= 100)\n",
    "\n",
    "classifier2.fit(X_train,y_train)\n",
    "y_pred=classifier2.predict(X_test)"
   ]
  },
  {
   "cell_type": "code",
   "execution_count": 38,
   "id": "fe87a1dc",
   "metadata": {},
   "outputs": [
    {
     "name": "stdout",
     "output_type": "stream",
     "text": [
      "              precision    recall  f1-score   support\n",
      "\n",
      "           0       0.98      1.00      0.99      6840\n",
      "           1       1.00      0.78      0.88       646\n",
      "\n",
      "    accuracy                           0.98      7486\n",
      "   macro avg       0.99      0.89      0.93      7486\n",
      "weighted avg       0.98      0.98      0.98      7486\n",
      "\n",
      "Accuracy: 0.9811648410366016\n",
      "Precision score: 1.0\n",
      "Recall score: 0.781733746130031\n"
     ]
    }
   ],
   "source": [
    "from sklearn import metrics\n",
    "from sklearn.metrics import classification_report, confusion_matrix\n",
    "print(classification_report(y_test, y_pred))\n",
    "print(\"Accuracy:\",metrics.accuracy_score(y_test, y_pred))\n",
    "print(\"Precision score:\",metrics.precision_score(y_test, y_pred))\n",
    "print(\"Recall score:\",metrics.recall_score(y_test, y_pred))"
   ]
  },
  {
   "cell_type": "code",
   "execution_count": 39,
   "id": "b28e3e7c",
   "metadata": {},
   "outputs": [],
   "source": [
    "score=100*(metrics.f1_score(y_test,y_pred,average='macro'))"
   ]
  },
  {
   "cell_type": "code",
   "execution_count": 40,
   "id": "0d559775",
   "metadata": {},
   "outputs": [
    {
     "data": {
      "text/plain": [
       "93.36479806255619"
      ]
     },
     "execution_count": 40,
     "metadata": {},
     "output_type": "execute_result"
    }
   ],
   "source": [
    "score #online score-91.91179"
   ]
  },
  {
   "cell_type": "code",
   "execution_count": 41,
   "id": "4ce0adad",
   "metadata": {},
   "outputs": [
    {
     "name": "stdout",
     "output_type": "stream",
     "text": [
      "Feature: 0, Score: 0.00023\n",
      "Feature: 1, Score: 0.00072\n",
      "Feature: 2, Score: 0.00388\n",
      "Feature: 3, Score: 0.00015\n",
      "Feature: 4, Score: 0.00018\n",
      "Feature: 5, Score: 0.00113\n",
      "Feature: 6, Score: 0.00095\n",
      "Feature: 7, Score: 0.07350\n",
      "Feature: 8, Score: 0.41038\n",
      "Feature: 9, Score: 0.27676\n",
      "Feature: 10, Score: 0.23089\n",
      "Feature: 11, Score: 0.00004\n",
      "Feature: 12, Score: 0.00001\n",
      "Feature: 13, Score: 0.00016\n",
      "Feature: 14, Score: 0.00022\n",
      "Feature: 15, Score: 0.00000\n",
      "Feature: 16, Score: 0.00005\n",
      "Feature: 17, Score: 0.00000\n",
      "Feature: 18, Score: 0.00037\n",
      "Feature: 19, Score: 0.00008\n",
      "Feature: 20, Score: 0.00002\n",
      "Feature: 21, Score: 0.00001\n",
      "Feature: 22, Score: 0.00004\n",
      "Feature: 23, Score: 0.00001\n",
      "Feature: 24, Score: 0.00002\n",
      "Feature: 25, Score: 0.00000\n",
      "Feature: 26, Score: 0.00003\n",
      "Feature: 27, Score: 0.00015\n",
      "Feature: 28, Score: 0.00000\n"
     ]
    },
    {
     "data": {
      "image/png": "[encoded data removed]",
      "text/plain": [
       "<Figure size 864x720 with 1 Axes>"
      ]
     },
     "metadata": {
      "needs_background": "light"
     },
     "output_type": "display_data"
    }
   ],
   "source": [
    "importance = classifier2.feature_importances_\n",
    "for i,v in enumerate(importance):\n",
    "    print('Feature: %0d, Score: %.5f' % (i,v))\n",
    "plt.figure(figsize=(12,10))\n",
    "plt.bar([x for x in range(len(importance))], importance)\n",
    "plt.show()"
   ]
  },
  {
   "cell_type": "markdown",
   "id": "d96b2b10",
   "metadata": {},
   "source": [
    "## SVM"
   ]
  },
  {
   "cell_type": "code",
   "execution_count": null,
   "id": "062bcb3b",
   "metadata": {},
   "outputs": [],
   "source": [
    "from sklearn.svm import SVC\n",
    "\n",
    "svm = SVC(kernel = 'rbf', random_state = 0,class_weight='balanced', probability=True)\n",
    "svm.fit(X_train, y_train)\n",
    "y_pred=svm.predict(X_test)"
   ]
  },
  {
   "cell_type": "code",
   "execution_count": null,
   "id": "30bf6206",
   "metadata": {},
   "outputs": [],
   "source": [
    "score=100*(metrics.f1_score(y_test,y_pred,average='macro'))"
   ]
  },
  {
   "cell_type": "code",
   "execution_count": null,
   "id": "f0ac875d",
   "metadata": {},
   "outputs": [],
   "source": [
    "score #91.79 online"
   ]
  },
  {
   "cell_type": "markdown",
   "id": "2b46ed05",
   "metadata": {},
   "source": [
    "## XGBoost"
   ]
  },
  {
   "cell_type": "code",
   "execution_count": 392,
   "id": "1b87118b",
   "metadata": {},
   "outputs": [
    {
     "name": "stdout",
     "output_type": "stream",
     "text": [
      "[16:14:59] WARNING: C:/Users/Administrator/workspace/xgboost-win64_release_1.5.0/src/learner.cc:1115: Starting in XGBoost 1.3.0, the default evaluation metric used with the objective 'binary:logistic' was changed from 'error' to 'logloss'. Explicitly set eval_metric if you'd like to restore the old behavior.\n"
     ]
    }
   ],
   "source": [
    "from xgboost import XGBClassifier\n",
    "xgbr = XGBClassifier(use_label_encoder=False)\n",
    "xgbr.fit(X_train, y_train)\n",
    "y_pred = xgbr.predict(X_test)"
   ]
  },
  {
   "cell_type": "code",
   "execution_count": 393,
   "id": "4cb0a807",
   "metadata": {},
   "outputs": [],
   "source": [
    "score=100*(metrics.f1_score(y_test,y_pred,average='macro'))"
   ]
  },
  {
   "cell_type": "code",
   "execution_count": 394,
   "id": "94a03961",
   "metadata": {},
   "outputs": [
    {
     "data": {
      "text/plain": [
       "92.44337739601104"
      ]
     },
     "execution_count": 394,
     "metadata": {},
     "output_type": "execute_result"
    }
   ],
   "source": [
    "score"
   ]
  },
  {
   "cell_type": "markdown",
   "id": "900cae2c",
   "metadata": {},
   "source": [
    "## Catboost"
   ]
  },
  {
   "cell_type": "code",
   "execution_count": 235,
   "id": "e695f961",
   "metadata": {},
   "outputs": [
    {
     "name": "stdout",
     "output_type": "stream",
     "text": [
      "Learning rate set to 0.047822\n",
      "0:\tlearn: 0.5486650\ttotal: 163ms\tremaining: 2m 43s\n",
      "1:\tlearn: 0.4589975\ttotal: 173ms\tremaining: 1m 26s\n",
      "2:\tlearn: 0.3907942\ttotal: 181ms\tremaining: 1m\n",
      "3:\tlearn: 0.3465188\ttotal: 190ms\tremaining: 47.3s\n",
      "4:\tlearn: 0.2736880\ttotal: 200ms\tremaining: 39.8s\n",
      "5:\tlearn: 0.2212294\ttotal: 209ms\tremaining: 34.6s\n",
      "6:\tlearn: 0.1915533\ttotal: 221ms\tremaining: 31.3s\n",
      "7:\tlearn: 0.1579787\ttotal: 230ms\tremaining: 28.5s\n",
      "8:\tlearn: 0.1307713\ttotal: 239ms\tremaining: 26.3s\n",
      "9:\tlearn: 0.1165708\ttotal: 248ms\tremaining: 24.5s\n",
      "10:\tlearn: 0.1015254\ttotal: 257ms\tremaining: 23.1s\n",
      "11:\tlearn: 0.0940992\ttotal: 265ms\tremaining: 21.8s\n",
      "12:\tlearn: 0.0823206\ttotal: 275ms\tremaining: 20.9s\n",
      "13:\tlearn: 0.0778347\ttotal: 284ms\tremaining: 20s\n",
      "14:\tlearn: 0.0740231\ttotal: 292ms\tremaining: 19.2s\n",
      "15:\tlearn: 0.0667688\ttotal: 301ms\tremaining: 18.5s\n",
      "16:\tlearn: 0.0614350\ttotal: 309ms\tremaining: 17.9s\n",
      "17:\tlearn: 0.0575207\ttotal: 318ms\tremaining: 17.4s\n",
      "18:\tlearn: 0.0553658\ttotal: 327ms\tremaining: 16.9s\n",
      "19:\tlearn: 0.0529788\ttotal: 336ms\tremaining: 16.4s\n",
      "20:\tlearn: 0.0506623\ttotal: 344ms\tremaining: 16.1s\n",
      "21:\tlearn: 0.0488968\ttotal: 353ms\tremaining: 15.7s\n",
      "22:\tlearn: 0.0471477\ttotal: 361ms\tremaining: 15.3s\n",
      "23:\tlearn: 0.0464353\ttotal: 371ms\tremaining: 15.1s\n",
      "24:\tlearn: 0.0455254\ttotal: 380ms\tremaining: 14.8s\n",
      "25:\tlearn: 0.0448498\ttotal: 390ms\tremaining: 14.6s\n",
      "26:\tlearn: 0.0440584\ttotal: 399ms\tremaining: 14.4s\n",
      "27:\tlearn: 0.0435681\ttotal: 408ms\tremaining: 14.1s\n",
      "28:\tlearn: 0.0429750\ttotal: 417ms\tremaining: 14s\n",
      "29:\tlearn: 0.0428690\ttotal: 425ms\tremaining: 13.8s\n",
      "30:\tlearn: 0.0427348\ttotal: 433ms\tremaining: 13.5s\n",
      "31:\tlearn: 0.0425073\ttotal: 442ms\tremaining: 13.4s\n",
      "32:\tlearn: 0.0424135\ttotal: 450ms\tremaining: 13.2s\n",
      "33:\tlearn: 0.0422885\ttotal: 459ms\tremaining: 13s\n",
      "34:\tlearn: 0.0421107\ttotal: 467ms\tremaining: 12.9s\n",
      "35:\tlearn: 0.0418821\ttotal: 475ms\tremaining: 12.7s\n",
      "36:\tlearn: 0.0417324\ttotal: 484ms\tremaining: 12.6s\n",
      "37:\tlearn: 0.0413331\ttotal: 492ms\tremaining: 12.5s\n",
      "38:\tlearn: 0.0413304\ttotal: 498ms\tremaining: 12.3s\n",
      "39:\tlearn: 0.0411287\ttotal: 506ms\tremaining: 12.1s\n",
      "40:\tlearn: 0.0409848\ttotal: 514ms\tremaining: 12s\n",
      "41:\tlearn: 0.0407354\ttotal: 523ms\tremaining: 11.9s\n",
      "42:\tlearn: 0.0405608\ttotal: 531ms\tremaining: 11.8s\n",
      "43:\tlearn: 0.0405196\ttotal: 540ms\tremaining: 11.7s\n",
      "44:\tlearn: 0.0404145\ttotal: 549ms\tremaining: 11.6s\n",
      "45:\tlearn: 0.0404073\ttotal: 557ms\tremaining: 11.6s\n",
      "46:\tlearn: 0.0402488\ttotal: 567ms\tremaining: 11.5s\n",
      "47:\tlearn: 0.0402193\ttotal: 576ms\tremaining: 11.4s\n",
      "48:\tlearn: 0.0401755\ttotal: 585ms\tremaining: 11.4s\n",
      "49:\tlearn: 0.0400314\ttotal: 594ms\tremaining: 11.3s\n",
      "50:\tlearn: 0.0399492\ttotal: 603ms\tremaining: 11.2s\n",
      "51:\tlearn: 0.0397999\ttotal: 611ms\tremaining: 11.1s\n",
      "52:\tlearn: 0.0396773\ttotal: 620ms\tremaining: 11.1s\n",
      "53:\tlearn: 0.0395739\ttotal: 628ms\tremaining: 11s\n",
      "54:\tlearn: 0.0395047\ttotal: 636ms\tremaining: 10.9s\n",
      "55:\tlearn: 0.0394527\ttotal: 645ms\tremaining: 10.9s\n",
      "56:\tlearn: 0.0393866\ttotal: 653ms\tremaining: 10.8s\n",
      "57:\tlearn: 0.0393198\ttotal: 661ms\tremaining: 10.7s\n",
      "58:\tlearn: 0.0392740\ttotal: 670ms\tremaining: 10.7s\n",
      "59:\tlearn: 0.0391888\ttotal: 679ms\tremaining: 10.6s\n",
      "60:\tlearn: 0.0391300\ttotal: 687ms\tremaining: 10.6s\n",
      "61:\tlearn: 0.0390703\ttotal: 696ms\tremaining: 10.5s\n",
      "62:\tlearn: 0.0390324\ttotal: 704ms\tremaining: 10.5s\n",
      "63:\tlearn: 0.0389991\ttotal: 712ms\tremaining: 10.4s\n",
      "64:\tlearn: 0.0389727\ttotal: 721ms\tremaining: 10.4s\n",
      "65:\tlearn: 0.0389092\ttotal: 729ms\tremaining: 10.3s\n",
      "66:\tlearn: 0.0388385\ttotal: 737ms\tremaining: 10.3s\n",
      "67:\tlearn: 0.0388062\ttotal: 746ms\tremaining: 10.2s\n",
      "68:\tlearn: 0.0387359\ttotal: 755ms\tremaining: 10.2s\n",
      "69:\tlearn: 0.0386884\ttotal: 766ms\tremaining: 10.2s\n",
      "70:\tlearn: 0.0386548\ttotal: 777ms\tremaining: 10.2s\n",
      "71:\tlearn: 0.0386149\ttotal: 790ms\tremaining: 10.2s\n",
      "72:\tlearn: 0.0385917\ttotal: 803ms\tremaining: 10.2s\n",
      "73:\tlearn: 0.0385158\ttotal: 817ms\tremaining: 10.2s\n",
      "74:\tlearn: 0.0384547\ttotal: 830ms\tremaining: 10.2s\n",
      "75:\tlearn: 0.0383711\ttotal: 839ms\tremaining: 10.2s\n",
      "76:\tlearn: 0.0383228\ttotal: 856ms\tremaining: 10.3s\n",
      "77:\tlearn: 0.0382700\ttotal: 867ms\tremaining: 10.2s\n",
      "78:\tlearn: 0.0382137\ttotal: 877ms\tremaining: 10.2s\n",
      "79:\tlearn: 0.0381684\ttotal: 887ms\tremaining: 10.2s\n",
      "80:\tlearn: 0.0381356\ttotal: 897ms\tremaining: 10.2s\n",
      "81:\tlearn: 0.0381049\ttotal: 905ms\tremaining: 10.1s\n",
      "82:\tlearn: 0.0380623\ttotal: 915ms\tremaining: 10.1s\n",
      "83:\tlearn: 0.0380016\ttotal: 923ms\tremaining: 10.1s\n",
      "84:\tlearn: 0.0379645\ttotal: 932ms\tremaining: 10s\n",
      "85:\tlearn: 0.0379259\ttotal: 940ms\tremaining: 9.99s\n",
      "86:\tlearn: 0.0378973\ttotal: 949ms\tremaining: 9.96s\n",
      "87:\tlearn: 0.0378435\ttotal: 957ms\tremaining: 9.92s\n",
      "88:\tlearn: 0.0377986\ttotal: 966ms\tremaining: 9.89s\n",
      "89:\tlearn: 0.0377978\ttotal: 973ms\tremaining: 9.84s\n",
      "90:\tlearn: 0.0377822\ttotal: 983ms\tremaining: 9.82s\n",
      "91:\tlearn: 0.0377420\ttotal: 993ms\tremaining: 9.8s\n",
      "92:\tlearn: 0.0376955\ttotal: 1s\tremaining: 9.78s\n",
      "93:\tlearn: 0.0376561\ttotal: 1.01s\tremaining: 9.76s\n",
      "94:\tlearn: 0.0375646\ttotal: 1.02s\tremaining: 9.73s\n",
      "95:\tlearn: 0.0375152\ttotal: 1.03s\tremaining: 9.7s\n",
      "96:\tlearn: 0.0374836\ttotal: 1.04s\tremaining: 9.67s\n",
      "97:\tlearn: 0.0374269\ttotal: 1.05s\tremaining: 9.64s\n",
      "98:\tlearn: 0.0373789\ttotal: 1.05s\tremaining: 9.61s\n",
      "99:\tlearn: 0.0373220\ttotal: 1.06s\tremaining: 9.58s\n",
      "100:\tlearn: 0.0372855\ttotal: 1.07s\tremaining: 9.55s\n",
      "101:\tlearn: 0.0372522\ttotal: 1.08s\tremaining: 9.52s\n",
      "102:\tlearn: 0.0372136\ttotal: 1.09s\tremaining: 9.49s\n",
      "103:\tlearn: 0.0371799\ttotal: 1.1s\tremaining: 9.46s\n",
      "104:\tlearn: 0.0371698\ttotal: 1.1s\tremaining: 9.41s\n",
      "105:\tlearn: 0.0371328\ttotal: 1.11s\tremaining: 9.38s\n",
      "106:\tlearn: 0.0371015\ttotal: 1.12s\tremaining: 9.36s\n",
      "107:\tlearn: 0.0370880\ttotal: 1.13s\tremaining: 9.33s\n",
      "108:\tlearn: 0.0370373\ttotal: 1.14s\tremaining: 9.31s\n",
      "109:\tlearn: 0.0370012\ttotal: 1.15s\tremaining: 9.28s\n",
      "110:\tlearn: 0.0369415\ttotal: 1.16s\tremaining: 9.26s\n",
      "111:\tlearn: 0.0369154\ttotal: 1.17s\tremaining: 9.24s\n",
      "112:\tlearn: 0.0368808\ttotal: 1.17s\tremaining: 9.22s\n",
      "113:\tlearn: 0.0368020\ttotal: 1.18s\tremaining: 9.2s\n",
      "114:\tlearn: 0.0367974\ttotal: 1.19s\tremaining: 9.17s\n",
      "115:\tlearn: 0.0367652\ttotal: 1.2s\tremaining: 9.16s\n",
      "116:\tlearn: 0.0367416\ttotal: 1.21s\tremaining: 9.14s\n",
      "117:\tlearn: 0.0366872\ttotal: 1.22s\tremaining: 9.13s\n",
      "118:\tlearn: 0.0366402\ttotal: 1.23s\tremaining: 9.12s\n",
      "119:\tlearn: 0.0366051\ttotal: 1.24s\tremaining: 9.13s\n",
      "120:\tlearn: 0.0365890\ttotal: 1.26s\tremaining: 9.13s\n",
      "121:\tlearn: 0.0365676\ttotal: 1.27s\tremaining: 9.14s\n",
      "122:\tlearn: 0.0365381\ttotal: 1.28s\tremaining: 9.16s\n",
      "123:\tlearn: 0.0365097\ttotal: 1.3s\tremaining: 9.18s\n",
      "124:\tlearn: 0.0364430\ttotal: 1.31s\tremaining: 9.18s\n",
      "125:\tlearn: 0.0364294\ttotal: 1.32s\tremaining: 9.17s\n",
      "126:\tlearn: 0.0364023\ttotal: 1.33s\tremaining: 9.15s\n",
      "127:\tlearn: 0.0363724\ttotal: 1.34s\tremaining: 9.14s\n",
      "128:\tlearn: 0.0363506\ttotal: 1.35s\tremaining: 9.13s\n",
      "129:\tlearn: 0.0363186\ttotal: 1.36s\tremaining: 9.13s\n",
      "130:\tlearn: 0.0363011\ttotal: 1.37s\tremaining: 9.12s\n",
      "131:\tlearn: 0.0362778\ttotal: 1.39s\tremaining: 9.11s\n",
      "132:\tlearn: 0.0362412\ttotal: 1.39s\tremaining: 9.09s\n",
      "133:\tlearn: 0.0362018\ttotal: 1.4s\tremaining: 9.07s\n",
      "134:\tlearn: 0.0361620\ttotal: 1.41s\tremaining: 9.06s\n",
      "135:\tlearn: 0.0361350\ttotal: 1.42s\tremaining: 9.05s\n",
      "136:\tlearn: 0.0360941\ttotal: 1.43s\tremaining: 9.03s\n",
      "137:\tlearn: 0.0360603\ttotal: 1.44s\tremaining: 9.02s\n",
      "138:\tlearn: 0.0360291\ttotal: 1.45s\tremaining: 9s\n",
      "139:\tlearn: 0.0359726\ttotal: 1.46s\tremaining: 8.99s\n",
      "140:\tlearn: 0.0359668\ttotal: 1.47s\tremaining: 8.97s\n",
      "141:\tlearn: 0.0359358\ttotal: 1.48s\tremaining: 8.96s\n",
      "142:\tlearn: 0.0358889\ttotal: 1.49s\tremaining: 8.95s\n",
      "143:\tlearn: 0.0358771\ttotal: 1.5s\tremaining: 8.93s\n",
      "144:\tlearn: 0.0358501\ttotal: 1.51s\tremaining: 8.92s\n",
      "145:\tlearn: 0.0358287\ttotal: 1.52s\tremaining: 8.9s\n",
      "146:\tlearn: 0.0357909\ttotal: 1.53s\tremaining: 8.9s\n",
      "147:\tlearn: 0.0357146\ttotal: 1.54s\tremaining: 8.89s\n",
      "148:\tlearn: 0.0356776\ttotal: 1.55s\tremaining: 8.87s\n",
      "149:\tlearn: 0.0356456\ttotal: 1.56s\tremaining: 8.87s\n",
      "150:\tlearn: 0.0356132\ttotal: 1.6s\tremaining: 9s\n",
      "151:\tlearn: 0.0355836\ttotal: 1.61s\tremaining: 8.99s\n",
      "152:\tlearn: 0.0355478\ttotal: 1.62s\tremaining: 8.98s\n",
      "153:\tlearn: 0.0355101\ttotal: 1.63s\tremaining: 8.96s\n",
      "154:\tlearn: 0.0355099\ttotal: 1.64s\tremaining: 8.93s\n",
      "155:\tlearn: 0.0354914\ttotal: 1.65s\tremaining: 8.91s\n",
      "156:\tlearn: 0.0354654\ttotal: 1.66s\tremaining: 8.9s\n",
      "157:\tlearn: 0.0354370\ttotal: 1.67s\tremaining: 8.88s\n",
      "158:\tlearn: 0.0354061\ttotal: 1.68s\tremaining: 8.87s\n",
      "159:\tlearn: 0.0353865\ttotal: 1.69s\tremaining: 8.85s\n",
      "160:\tlearn: 0.0353495\ttotal: 1.7s\tremaining: 8.84s\n",
      "161:\tlearn: 0.0353085\ttotal: 1.71s\tremaining: 8.82s\n",
      "162:\tlearn: 0.0352715\ttotal: 1.72s\tremaining: 8.81s\n"
     ]
    },
    {
     "name": "stdout",
     "output_type": "stream",
     "text": [
      "163:\tlearn: 0.0352492\ttotal: 1.73s\tremaining: 8.8s\n",
      "164:\tlearn: 0.0352043\ttotal: 1.74s\tremaining: 8.79s\n",
      "165:\tlearn: 0.0351478\ttotal: 1.75s\tremaining: 8.78s\n",
      "166:\tlearn: 0.0351056\ttotal: 1.76s\tremaining: 8.77s\n",
      "167:\tlearn: 0.0350958\ttotal: 1.77s\tremaining: 8.77s\n",
      "168:\tlearn: 0.0350728\ttotal: 1.78s\tremaining: 8.76s\n",
      "169:\tlearn: 0.0350431\ttotal: 1.79s\tremaining: 8.75s\n",
      "170:\tlearn: 0.0350230\ttotal: 1.8s\tremaining: 8.74s\n",
      "171:\tlearn: 0.0350007\ttotal: 1.81s\tremaining: 8.74s\n",
      "172:\tlearn: 0.0349844\ttotal: 1.83s\tremaining: 8.73s\n",
      "173:\tlearn: 0.0349558\ttotal: 1.84s\tremaining: 8.73s\n",
      "174:\tlearn: 0.0349411\ttotal: 1.85s\tremaining: 8.73s\n",
      "175:\tlearn: 0.0349075\ttotal: 1.86s\tremaining: 8.71s\n",
      "176:\tlearn: 0.0348907\ttotal: 1.87s\tremaining: 8.71s\n",
      "177:\tlearn: 0.0348631\ttotal: 1.88s\tremaining: 8.69s\n",
      "178:\tlearn: 0.0348139\ttotal: 1.89s\tremaining: 8.68s\n",
      "179:\tlearn: 0.0347666\ttotal: 1.9s\tremaining: 8.67s\n",
      "180:\tlearn: 0.0347218\ttotal: 1.92s\tremaining: 8.67s\n",
      "181:\tlearn: 0.0346840\ttotal: 1.92s\tremaining: 8.65s\n",
      "182:\tlearn: 0.0346404\ttotal: 1.93s\tremaining: 8.63s\n",
      "183:\tlearn: 0.0346233\ttotal: 1.94s\tremaining: 8.62s\n",
      "184:\tlearn: 0.0345772\ttotal: 1.95s\tremaining: 8.6s\n",
      "185:\tlearn: 0.0345766\ttotal: 1.96s\tremaining: 8.58s\n",
      "186:\tlearn: 0.0345155\ttotal: 1.97s\tremaining: 8.57s\n",
      "187:\tlearn: 0.0344964\ttotal: 1.98s\tremaining: 8.56s\n",
      "188:\tlearn: 0.0344726\ttotal: 1.99s\tremaining: 8.54s\n",
      "189:\tlearn: 0.0344559\ttotal: 2s\tremaining: 8.53s\n",
      "190:\tlearn: 0.0344054\ttotal: 2.01s\tremaining: 8.52s\n",
      "191:\tlearn: 0.0343631\ttotal: 2.02s\tremaining: 8.51s\n",
      "192:\tlearn: 0.0343301\ttotal: 2.03s\tremaining: 8.5s\n",
      "193:\tlearn: 0.0343101\ttotal: 2.04s\tremaining: 8.48s\n",
      "194:\tlearn: 0.0342407\ttotal: 2.05s\tremaining: 8.47s\n",
      "195:\tlearn: 0.0342184\ttotal: 2.06s\tremaining: 8.46s\n",
      "196:\tlearn: 0.0341999\ttotal: 2.07s\tremaining: 8.45s\n",
      "197:\tlearn: 0.0341914\ttotal: 2.08s\tremaining: 8.44s\n",
      "198:\tlearn: 0.0341693\ttotal: 2.09s\tremaining: 8.42s\n",
      "199:\tlearn: 0.0341345\ttotal: 2.1s\tremaining: 8.42s\n",
      "200:\tlearn: 0.0340947\ttotal: 2.11s\tremaining: 8.41s\n",
      "201:\tlearn: 0.0340686\ttotal: 2.13s\tremaining: 8.4s\n",
      "202:\tlearn: 0.0340165\ttotal: 2.13s\tremaining: 8.38s\n",
      "203:\tlearn: 0.0340042\ttotal: 2.14s\tremaining: 8.37s\n",
      "204:\tlearn: 0.0339622\ttotal: 2.15s\tremaining: 8.36s\n",
      "205:\tlearn: 0.0339144\ttotal: 2.17s\tremaining: 8.35s\n",
      "206:\tlearn: 0.0339056\ttotal: 2.18s\tremaining: 8.34s\n",
      "207:\tlearn: 0.0338594\ttotal: 2.19s\tremaining: 8.32s\n",
      "208:\tlearn: 0.0338352\ttotal: 2.2s\tremaining: 8.31s\n",
      "209:\tlearn: 0.0337851\ttotal: 2.21s\tremaining: 8.3s\n",
      "210:\tlearn: 0.0337583\ttotal: 2.22s\tremaining: 8.3s\n",
      "211:\tlearn: 0.0337115\ttotal: 2.23s\tremaining: 8.29s\n",
      "212:\tlearn: 0.0336697\ttotal: 2.24s\tremaining: 8.28s\n",
      "213:\tlearn: 0.0336442\ttotal: 2.25s\tremaining: 8.27s\n",
      "214:\tlearn: 0.0336417\ttotal: 2.26s\tremaining: 8.25s\n",
      "215:\tlearn: 0.0336134\ttotal: 2.27s\tremaining: 8.23s\n",
      "216:\tlearn: 0.0335829\ttotal: 2.28s\tremaining: 8.22s\n",
      "217:\tlearn: 0.0335466\ttotal: 2.29s\tremaining: 8.22s\n",
      "218:\tlearn: 0.0334906\ttotal: 2.3s\tremaining: 8.21s\n",
      "219:\tlearn: 0.0334859\ttotal: 2.31s\tremaining: 8.2s\n",
      "220:\tlearn: 0.0334509\ttotal: 2.32s\tremaining: 8.19s\n",
      "221:\tlearn: 0.0334292\ttotal: 2.33s\tremaining: 8.18s\n",
      "222:\tlearn: 0.0333912\ttotal: 2.35s\tremaining: 8.17s\n",
      "223:\tlearn: 0.0333789\ttotal: 2.35s\tremaining: 8.16s\n",
      "224:\tlearn: 0.0333691\ttotal: 2.36s\tremaining: 8.15s\n",
      "225:\tlearn: 0.0333272\ttotal: 2.37s\tremaining: 8.13s\n",
      "226:\tlearn: 0.0333020\ttotal: 2.38s\tremaining: 8.12s\n",
      "227:\tlearn: 0.0332729\ttotal: 2.4s\tremaining: 8.11s\n",
      "228:\tlearn: 0.0332062\ttotal: 2.41s\tremaining: 8.1s\n",
      "229:\tlearn: 0.0331696\ttotal: 2.42s\tremaining: 8.09s\n",
      "230:\tlearn: 0.0331157\ttotal: 2.42s\tremaining: 8.07s\n",
      "231:\tlearn: 0.0330838\ttotal: 2.43s\tremaining: 8.06s\n",
      "232:\tlearn: 0.0330581\ttotal: 2.44s\tremaining: 8.04s\n",
      "233:\tlearn: 0.0330200\ttotal: 2.45s\tremaining: 8.03s\n",
      "234:\tlearn: 0.0330159\ttotal: 2.46s\tremaining: 8.01s\n",
      "235:\tlearn: 0.0329819\ttotal: 2.47s\tremaining: 7.99s\n",
      "236:\tlearn: 0.0329316\ttotal: 2.48s\tremaining: 7.97s\n",
      "237:\tlearn: 0.0328966\ttotal: 2.49s\tremaining: 7.96s\n",
      "238:\tlearn: 0.0328471\ttotal: 2.5s\tremaining: 7.95s\n",
      "239:\tlearn: 0.0328401\ttotal: 2.5s\tremaining: 7.93s\n",
      "240:\tlearn: 0.0328237\ttotal: 2.51s\tremaining: 7.92s\n",
      "241:\tlearn: 0.0327901\ttotal: 2.52s\tremaining: 7.9s\n",
      "242:\tlearn: 0.0327742\ttotal: 2.53s\tremaining: 7.88s\n",
      "243:\tlearn: 0.0327314\ttotal: 2.54s\tremaining: 7.87s\n",
      "244:\tlearn: 0.0327011\ttotal: 2.55s\tremaining: 7.85s\n",
      "245:\tlearn: 0.0326773\ttotal: 2.56s\tremaining: 7.83s\n",
      "246:\tlearn: 0.0326484\ttotal: 2.56s\tremaining: 7.82s\n",
      "247:\tlearn: 0.0326276\ttotal: 2.57s\tremaining: 7.8s\n",
      "248:\tlearn: 0.0326056\ttotal: 2.58s\tremaining: 7.79s\n",
      "249:\tlearn: 0.0325842\ttotal: 2.59s\tremaining: 7.77s\n",
      "250:\tlearn: 0.0325589\ttotal: 2.6s\tremaining: 7.75s\n",
      "251:\tlearn: 0.0325414\ttotal: 2.61s\tremaining: 7.74s\n",
      "252:\tlearn: 0.0325034\ttotal: 2.62s\tremaining: 7.72s\n",
      "253:\tlearn: 0.0324697\ttotal: 2.62s\tremaining: 7.71s\n",
      "254:\tlearn: 0.0324368\ttotal: 2.63s\tremaining: 7.69s\n",
      "255:\tlearn: 0.0323994\ttotal: 2.64s\tremaining: 7.67s\n",
      "256:\tlearn: 0.0323609\ttotal: 2.65s\tremaining: 7.66s\n",
      "257:\tlearn: 0.0323335\ttotal: 2.66s\tremaining: 7.64s\n",
      "258:\tlearn: 0.0323176\ttotal: 2.67s\tremaining: 7.63s\n",
      "259:\tlearn: 0.0323108\ttotal: 2.68s\tremaining: 7.62s\n",
      "260:\tlearn: 0.0322614\ttotal: 2.69s\tremaining: 7.6s\n",
      "261:\tlearn: 0.0322379\ttotal: 2.69s\tremaining: 7.59s\n",
      "262:\tlearn: 0.0322131\ttotal: 2.71s\tremaining: 7.58s\n",
      "263:\tlearn: 0.0321768\ttotal: 2.71s\tremaining: 7.57s\n",
      "264:\tlearn: 0.0321557\ttotal: 2.73s\tremaining: 7.56s\n",
      "265:\tlearn: 0.0321350\ttotal: 2.73s\tremaining: 7.54s\n",
      "266:\tlearn: 0.0321061\ttotal: 2.74s\tremaining: 7.53s\n",
      "267:\tlearn: 0.0320755\ttotal: 2.75s\tremaining: 7.52s\n",
      "268:\tlearn: 0.0320500\ttotal: 2.76s\tremaining: 7.5s\n",
      "269:\tlearn: 0.0320057\ttotal: 2.77s\tremaining: 7.49s\n",
      "270:\tlearn: 0.0319906\ttotal: 2.78s\tremaining: 7.47s\n",
      "271:\tlearn: 0.0319796\ttotal: 2.79s\tremaining: 7.46s\n",
      "272:\tlearn: 0.0319292\ttotal: 2.8s\tremaining: 7.45s\n",
      "273:\tlearn: 0.0319009\ttotal: 2.81s\tremaining: 7.43s\n",
      "274:\tlearn: 0.0318759\ttotal: 2.81s\tremaining: 7.42s\n",
      "275:\tlearn: 0.0318304\ttotal: 2.82s\tremaining: 7.41s\n",
      "276:\tlearn: 0.0317983\ttotal: 2.83s\tremaining: 7.39s\n",
      "277:\tlearn: 0.0317790\ttotal: 2.84s\tremaining: 7.37s\n",
      "278:\tlearn: 0.0317690\ttotal: 2.85s\tremaining: 7.36s\n",
      "279:\tlearn: 0.0317414\ttotal: 2.85s\tremaining: 7.34s\n",
      "280:\tlearn: 0.0316997\ttotal: 2.86s\tremaining: 7.33s\n",
      "281:\tlearn: 0.0316736\ttotal: 2.87s\tremaining: 7.31s\n",
      "282:\tlearn: 0.0316448\ttotal: 2.88s\tremaining: 7.3s\n",
      "283:\tlearn: 0.0315928\ttotal: 2.89s\tremaining: 7.29s\n",
      "284:\tlearn: 0.0315563\ttotal: 2.9s\tremaining: 7.27s\n",
      "285:\tlearn: 0.0315083\ttotal: 2.91s\tremaining: 7.26s\n",
      "286:\tlearn: 0.0314743\ttotal: 2.92s\tremaining: 7.25s\n",
      "287:\tlearn: 0.0314535\ttotal: 2.92s\tremaining: 7.23s\n",
      "288:\tlearn: 0.0314260\ttotal: 2.93s\tremaining: 7.22s\n",
      "289:\tlearn: 0.0313930\ttotal: 2.94s\tremaining: 7.2s\n",
      "290:\tlearn: 0.0313370\ttotal: 2.95s\tremaining: 7.19s\n",
      "291:\tlearn: 0.0312955\ttotal: 2.96s\tremaining: 7.17s\n",
      "292:\tlearn: 0.0312548\ttotal: 2.97s\tremaining: 7.16s\n",
      "293:\tlearn: 0.0312219\ttotal: 2.98s\tremaining: 7.14s\n",
      "294:\tlearn: 0.0311845\ttotal: 2.98s\tremaining: 7.13s\n",
      "295:\tlearn: 0.0311454\ttotal: 2.99s\tremaining: 7.12s\n",
      "296:\tlearn: 0.0311270\ttotal: 3s\tremaining: 7.11s\n",
      "297:\tlearn: 0.0311164\ttotal: 3.01s\tremaining: 7.09s\n",
      "298:\tlearn: 0.0310861\ttotal: 3.02s\tremaining: 7.08s\n",
      "299:\tlearn: 0.0310637\ttotal: 3.03s\tremaining: 7.07s\n",
      "300:\tlearn: 0.0310228\ttotal: 3.04s\tremaining: 7.05s\n",
      "301:\tlearn: 0.0310086\ttotal: 3.05s\tremaining: 7.04s\n",
      "302:\tlearn: 0.0309821\ttotal: 3.06s\tremaining: 7.03s\n",
      "303:\tlearn: 0.0309553\ttotal: 3.06s\tremaining: 7.02s\n",
      "304:\tlearn: 0.0309123\ttotal: 3.08s\tremaining: 7.01s\n",
      "305:\tlearn: 0.0308603\ttotal: 3.08s\tremaining: 7s\n",
      "306:\tlearn: 0.0308173\ttotal: 3.09s\tremaining: 6.99s\n",
      "307:\tlearn: 0.0307981\ttotal: 3.1s\tremaining: 6.97s\n",
      "308:\tlearn: 0.0307717\ttotal: 3.11s\tremaining: 6.96s\n",
      "309:\tlearn: 0.0307470\ttotal: 3.12s\tremaining: 6.95s\n",
      "310:\tlearn: 0.0307299\ttotal: 3.13s\tremaining: 6.94s\n",
      "311:\tlearn: 0.0307061\ttotal: 3.14s\tremaining: 6.93s\n",
      "312:\tlearn: 0.0307035\ttotal: 3.15s\tremaining: 6.92s\n",
      "313:\tlearn: 0.0306859\ttotal: 3.16s\tremaining: 6.91s\n",
      "314:\tlearn: 0.0306561\ttotal: 3.17s\tremaining: 6.89s\n",
      "315:\tlearn: 0.0306099\ttotal: 3.18s\tremaining: 6.89s\n",
      "316:\tlearn: 0.0305859\ttotal: 3.19s\tremaining: 6.88s\n",
      "317:\tlearn: 0.0305664\ttotal: 3.2s\tremaining: 6.86s\n",
      "318:\tlearn: 0.0305502\ttotal: 3.21s\tremaining: 6.85s\n",
      "319:\tlearn: 0.0305322\ttotal: 3.22s\tremaining: 6.84s\n",
      "320:\tlearn: 0.0305282\ttotal: 3.23s\tremaining: 6.83s\n",
      "321:\tlearn: 0.0304988\ttotal: 3.24s\tremaining: 6.82s\n",
      "322:\tlearn: 0.0304613\ttotal: 3.25s\tremaining: 6.81s\n"
     ]
    },
    {
     "name": "stdout",
     "output_type": "stream",
     "text": [
      "323:\tlearn: 0.0304389\ttotal: 3.26s\tremaining: 6.8s\n",
      "324:\tlearn: 0.0304022\ttotal: 3.27s\tremaining: 6.79s\n",
      "325:\tlearn: 0.0303624\ttotal: 3.28s\tremaining: 6.78s\n",
      "326:\tlearn: 0.0303356\ttotal: 3.29s\tremaining: 6.76s\n",
      "327:\tlearn: 0.0302994\ttotal: 3.3s\tremaining: 6.75s\n",
      "328:\tlearn: 0.0302771\ttotal: 3.31s\tremaining: 6.75s\n",
      "329:\tlearn: 0.0302490\ttotal: 3.31s\tremaining: 6.73s\n",
      "330:\tlearn: 0.0302240\ttotal: 3.33s\tremaining: 6.72s\n",
      "331:\tlearn: 0.0301972\ttotal: 3.33s\tremaining: 6.71s\n",
      "332:\tlearn: 0.0301744\ttotal: 3.35s\tremaining: 6.7s\n",
      "333:\tlearn: 0.0301430\ttotal: 3.35s\tremaining: 6.69s\n",
      "334:\tlearn: 0.0301250\ttotal: 3.37s\tremaining: 6.68s\n",
      "335:\tlearn: 0.0301018\ttotal: 3.38s\tremaining: 6.67s\n",
      "336:\tlearn: 0.0300825\ttotal: 3.38s\tremaining: 6.66s\n",
      "337:\tlearn: 0.0300552\ttotal: 3.4s\tremaining: 6.65s\n",
      "338:\tlearn: 0.0300219\ttotal: 3.4s\tremaining: 6.64s\n",
      "339:\tlearn: 0.0299789\ttotal: 3.42s\tremaining: 6.63s\n",
      "340:\tlearn: 0.0299399\ttotal: 3.42s\tremaining: 6.62s\n",
      "341:\tlearn: 0.0299147\ttotal: 3.43s\tremaining: 6.61s\n",
      "342:\tlearn: 0.0298942\ttotal: 3.44s\tremaining: 6.59s\n",
      "343:\tlearn: 0.0298591\ttotal: 3.45s\tremaining: 6.59s\n",
      "344:\tlearn: 0.0298385\ttotal: 3.46s\tremaining: 6.58s\n",
      "345:\tlearn: 0.0297831\ttotal: 3.47s\tremaining: 6.56s\n",
      "346:\tlearn: 0.0297542\ttotal: 3.48s\tremaining: 6.55s\n",
      "347:\tlearn: 0.0297393\ttotal: 3.49s\tremaining: 6.54s\n",
      "348:\tlearn: 0.0297197\ttotal: 3.5s\tremaining: 6.53s\n",
      "349:\tlearn: 0.0296900\ttotal: 3.51s\tremaining: 6.52s\n",
      "350:\tlearn: 0.0296758\ttotal: 3.52s\tremaining: 6.51s\n",
      "351:\tlearn: 0.0296547\ttotal: 3.53s\tremaining: 6.5s\n",
      "352:\tlearn: 0.0296314\ttotal: 3.54s\tremaining: 6.49s\n",
      "353:\tlearn: 0.0296239\ttotal: 3.55s\tremaining: 6.48s\n",
      "354:\tlearn: 0.0295928\ttotal: 3.56s\tremaining: 6.47s\n",
      "355:\tlearn: 0.0295580\ttotal: 3.57s\tremaining: 6.46s\n",
      "356:\tlearn: 0.0295295\ttotal: 3.58s\tremaining: 6.45s\n",
      "357:\tlearn: 0.0295155\ttotal: 3.59s\tremaining: 6.43s\n",
      "358:\tlearn: 0.0294955\ttotal: 3.6s\tremaining: 6.43s\n",
      "359:\tlearn: 0.0294676\ttotal: 3.61s\tremaining: 6.42s\n",
      "360:\tlearn: 0.0294431\ttotal: 3.62s\tremaining: 6.41s\n",
      "361:\tlearn: 0.0294167\ttotal: 3.63s\tremaining: 6.4s\n",
      "362:\tlearn: 0.0294038\ttotal: 3.64s\tremaining: 6.39s\n",
      "363:\tlearn: 0.0293721\ttotal: 3.65s\tremaining: 6.38s\n",
      "364:\tlearn: 0.0293351\ttotal: 3.66s\tremaining: 6.37s\n",
      "365:\tlearn: 0.0293016\ttotal: 3.67s\tremaining: 6.36s\n",
      "366:\tlearn: 0.0292703\ttotal: 3.68s\tremaining: 6.35s\n",
      "367:\tlearn: 0.0292561\ttotal: 3.69s\tremaining: 6.34s\n",
      "368:\tlearn: 0.0292368\ttotal: 3.7s\tremaining: 6.33s\n",
      "369:\tlearn: 0.0292172\ttotal: 3.71s\tremaining: 6.32s\n",
      "370:\tlearn: 0.0291755\ttotal: 3.72s\tremaining: 6.3s\n",
      "371:\tlearn: 0.0291277\ttotal: 3.73s\tremaining: 6.29s\n",
      "372:\tlearn: 0.0290939\ttotal: 3.74s\tremaining: 6.28s\n",
      "373:\tlearn: 0.0290720\ttotal: 3.75s\tremaining: 6.28s\n",
      "374:\tlearn: 0.0290389\ttotal: 3.76s\tremaining: 6.27s\n",
      "375:\tlearn: 0.0290220\ttotal: 3.77s\tremaining: 6.26s\n",
      "376:\tlearn: 0.0289985\ttotal: 3.78s\tremaining: 6.25s\n",
      "377:\tlearn: 0.0289643\ttotal: 3.79s\tremaining: 6.24s\n",
      "378:\tlearn: 0.0289393\ttotal: 3.8s\tremaining: 6.23s\n",
      "379:\tlearn: 0.0289256\ttotal: 3.81s\tremaining: 6.21s\n",
      "380:\tlearn: 0.0289095\ttotal: 3.82s\tremaining: 6.21s\n",
      "381:\tlearn: 0.0288821\ttotal: 3.83s\tremaining: 6.2s\n",
      "382:\tlearn: 0.0288499\ttotal: 3.84s\tremaining: 6.19s\n",
      "383:\tlearn: 0.0287997\ttotal: 3.85s\tremaining: 6.18s\n",
      "384:\tlearn: 0.0287697\ttotal: 3.86s\tremaining: 6.17s\n",
      "385:\tlearn: 0.0287288\ttotal: 3.87s\tremaining: 6.16s\n",
      "386:\tlearn: 0.0287033\ttotal: 3.88s\tremaining: 6.14s\n",
      "387:\tlearn: 0.0286729\ttotal: 3.89s\tremaining: 6.13s\n",
      "388:\tlearn: 0.0286347\ttotal: 3.9s\tremaining: 6.13s\n",
      "389:\tlearn: 0.0285996\ttotal: 3.91s\tremaining: 6.11s\n",
      "390:\tlearn: 0.0285789\ttotal: 3.92s\tremaining: 6.1s\n",
      "391:\tlearn: 0.0285590\ttotal: 3.93s\tremaining: 6.09s\n",
      "392:\tlearn: 0.0285382\ttotal: 3.94s\tremaining: 6.08s\n",
      "393:\tlearn: 0.0285262\ttotal: 3.95s\tremaining: 6.07s\n",
      "394:\tlearn: 0.0285042\ttotal: 3.96s\tremaining: 6.06s\n",
      "395:\tlearn: 0.0284721\ttotal: 3.97s\tremaining: 6.05s\n",
      "396:\tlearn: 0.0284489\ttotal: 3.98s\tremaining: 6.04s\n",
      "397:\tlearn: 0.0284275\ttotal: 3.99s\tremaining: 6.03s\n",
      "398:\tlearn: 0.0283910\ttotal: 4s\tremaining: 6.02s\n",
      "399:\tlearn: 0.0283872\ttotal: 4.01s\tremaining: 6.01s\n",
      "400:\tlearn: 0.0283426\ttotal: 4.02s\tremaining: 6s\n",
      "401:\tlearn: 0.0283260\ttotal: 4.03s\tremaining: 5.99s\n",
      "402:\tlearn: 0.0282982\ttotal: 4.04s\tremaining: 5.98s\n",
      "403:\tlearn: 0.0282633\ttotal: 4.05s\tremaining: 5.97s\n",
      "404:\tlearn: 0.0282435\ttotal: 4.06s\tremaining: 5.96s\n",
      "405:\tlearn: 0.0282294\ttotal: 4.07s\tremaining: 5.95s\n",
      "406:\tlearn: 0.0281861\ttotal: 4.08s\tremaining: 5.94s\n",
      "407:\tlearn: 0.0281635\ttotal: 4.09s\tremaining: 5.93s\n",
      "408:\tlearn: 0.0281282\ttotal: 4.1s\tremaining: 5.92s\n",
      "409:\tlearn: 0.0280953\ttotal: 4.11s\tremaining: 5.92s\n",
      "410:\tlearn: 0.0280921\ttotal: 4.12s\tremaining: 5.91s\n",
      "411:\tlearn: 0.0280880\ttotal: 4.13s\tremaining: 5.89s\n",
      "412:\tlearn: 0.0280677\ttotal: 4.14s\tremaining: 5.88s\n",
      "413:\tlearn: 0.0280362\ttotal: 4.15s\tremaining: 5.88s\n",
      "414:\tlearn: 0.0280280\ttotal: 4.16s\tremaining: 5.87s\n",
      "415:\tlearn: 0.0280245\ttotal: 4.17s\tremaining: 5.85s\n",
      "416:\tlearn: 0.0279947\ttotal: 4.18s\tremaining: 5.84s\n",
      "417:\tlearn: 0.0279526\ttotal: 4.19s\tremaining: 5.83s\n",
      "418:\tlearn: 0.0279177\ttotal: 4.2s\tremaining: 5.82s\n",
      "419:\tlearn: 0.0278887\ttotal: 4.21s\tremaining: 5.81s\n",
      "420:\tlearn: 0.0278591\ttotal: 4.22s\tremaining: 5.8s\n",
      "421:\tlearn: 0.0278402\ttotal: 4.23s\tremaining: 5.79s\n",
      "422:\tlearn: 0.0278090\ttotal: 4.24s\tremaining: 5.78s\n",
      "423:\tlearn: 0.0277800\ttotal: 4.25s\tremaining: 5.77s\n",
      "424:\tlearn: 0.0277537\ttotal: 4.25s\tremaining: 5.76s\n",
      "425:\tlearn: 0.0277272\ttotal: 4.26s\tremaining: 5.75s\n",
      "426:\tlearn: 0.0277098\ttotal: 4.27s\tremaining: 5.73s\n",
      "427:\tlearn: 0.0276828\ttotal: 4.28s\tremaining: 5.72s\n",
      "428:\tlearn: 0.0276651\ttotal: 4.29s\tremaining: 5.71s\n",
      "429:\tlearn: 0.0276354\ttotal: 4.3s\tremaining: 5.7s\n",
      "430:\tlearn: 0.0276143\ttotal: 4.31s\tremaining: 5.69s\n",
      "431:\tlearn: 0.0275818\ttotal: 4.32s\tremaining: 5.68s\n",
      "432:\tlearn: 0.0275720\ttotal: 4.33s\tremaining: 5.67s\n",
      "433:\tlearn: 0.0275466\ttotal: 4.34s\tremaining: 5.66s\n",
      "434:\tlearn: 0.0275264\ttotal: 4.35s\tremaining: 5.65s\n",
      "435:\tlearn: 0.0275139\ttotal: 4.36s\tremaining: 5.64s\n",
      "436:\tlearn: 0.0274784\ttotal: 4.37s\tremaining: 5.63s\n",
      "437:\tlearn: 0.0274756\ttotal: 4.38s\tremaining: 5.62s\n",
      "438:\tlearn: 0.0274476\ttotal: 4.39s\tremaining: 5.61s\n",
      "439:\tlearn: 0.0274092\ttotal: 4.4s\tremaining: 5.6s\n",
      "440:\tlearn: 0.0273894\ttotal: 4.41s\tremaining: 5.59s\n",
      "441:\tlearn: 0.0273569\ttotal: 4.42s\tremaining: 5.58s\n",
      "442:\tlearn: 0.0273308\ttotal: 4.43s\tremaining: 5.57s\n",
      "443:\tlearn: 0.0273125\ttotal: 4.44s\tremaining: 5.56s\n",
      "444:\tlearn: 0.0272851\ttotal: 4.45s\tremaining: 5.55s\n",
      "445:\tlearn: 0.0272691\ttotal: 4.46s\tremaining: 5.54s\n",
      "446:\tlearn: 0.0272439\ttotal: 4.47s\tremaining: 5.53s\n",
      "447:\tlearn: 0.0272289\ttotal: 4.48s\tremaining: 5.51s\n",
      "448:\tlearn: 0.0272034\ttotal: 4.49s\tremaining: 5.51s\n",
      "449:\tlearn: 0.0271812\ttotal: 4.5s\tremaining: 5.5s\n",
      "450:\tlearn: 0.0271357\ttotal: 4.51s\tremaining: 5.49s\n",
      "451:\tlearn: 0.0270901\ttotal: 4.52s\tremaining: 5.47s\n",
      "452:\tlearn: 0.0270766\ttotal: 4.53s\tremaining: 5.46s\n",
      "453:\tlearn: 0.0270740\ttotal: 4.54s\tremaining: 5.45s\n",
      "454:\tlearn: 0.0270313\ttotal: 4.54s\tremaining: 5.44s\n",
      "455:\tlearn: 0.0269965\ttotal: 4.55s\tremaining: 5.43s\n",
      "456:\tlearn: 0.0269679\ttotal: 4.56s\tremaining: 5.42s\n",
      "457:\tlearn: 0.0269570\ttotal: 4.57s\tremaining: 5.41s\n",
      "458:\tlearn: 0.0269334\ttotal: 4.58s\tremaining: 5.4s\n",
      "459:\tlearn: 0.0268996\ttotal: 4.59s\tremaining: 5.39s\n",
      "460:\tlearn: 0.0268711\ttotal: 4.6s\tremaining: 5.38s\n",
      "461:\tlearn: 0.0268446\ttotal: 4.61s\tremaining: 5.37s\n",
      "462:\tlearn: 0.0268262\ttotal: 4.62s\tremaining: 5.36s\n",
      "463:\tlearn: 0.0268036\ttotal: 4.63s\tremaining: 5.35s\n",
      "464:\tlearn: 0.0267913\ttotal: 4.64s\tremaining: 5.34s\n",
      "465:\tlearn: 0.0267610\ttotal: 4.65s\tremaining: 5.33s\n",
      "466:\tlearn: 0.0267409\ttotal: 4.66s\tremaining: 5.32s\n",
      "467:\tlearn: 0.0267100\ttotal: 4.67s\tremaining: 5.31s\n",
      "468:\tlearn: 0.0266902\ttotal: 4.68s\tremaining: 5.3s\n",
      "469:\tlearn: 0.0266693\ttotal: 4.69s\tremaining: 5.29s\n",
      "470:\tlearn: 0.0266523\ttotal: 4.7s\tremaining: 5.28s\n",
      "471:\tlearn: 0.0266319\ttotal: 4.71s\tremaining: 5.27s\n",
      "472:\tlearn: 0.0266051\ttotal: 4.72s\tremaining: 5.26s\n",
      "473:\tlearn: 0.0266023\ttotal: 4.73s\tremaining: 5.25s\n",
      "474:\tlearn: 0.0265811\ttotal: 4.74s\tremaining: 5.24s\n",
      "475:\tlearn: 0.0265564\ttotal: 4.75s\tremaining: 5.23s\n",
      "476:\tlearn: 0.0265331\ttotal: 4.76s\tremaining: 5.22s\n",
      "477:\tlearn: 0.0265087\ttotal: 4.77s\tremaining: 5.21s\n",
      "478:\tlearn: 0.0264850\ttotal: 4.78s\tremaining: 5.2s\n",
      "479:\tlearn: 0.0264623\ttotal: 4.79s\tremaining: 5.19s\n",
      "480:\tlearn: 0.0264383\ttotal: 4.8s\tremaining: 5.18s\n",
      "481:\tlearn: 0.0264116\ttotal: 4.81s\tremaining: 5.17s\n",
      "482:\tlearn: 0.0263752\ttotal: 4.82s\tremaining: 5.16s\n",
      "483:\tlearn: 0.0263360\ttotal: 4.83s\tremaining: 5.15s\n",
      "484:\tlearn: 0.0263105\ttotal: 4.84s\tremaining: 5.14s\n",
      "485:\tlearn: 0.0262966\ttotal: 4.85s\tremaining: 5.13s\n",
      "486:\tlearn: 0.0262826\ttotal: 4.86s\tremaining: 5.12s\n",
      "487:\tlearn: 0.0262387\ttotal: 4.87s\tremaining: 5.11s\n",
      "488:\tlearn: 0.0262083\ttotal: 4.88s\tremaining: 5.1s\n",
      "489:\tlearn: 0.0261819\ttotal: 4.89s\tremaining: 5.09s\n",
      "490:\tlearn: 0.0261490\ttotal: 4.9s\tremaining: 5.08s\n",
      "491:\tlearn: 0.0261287\ttotal: 4.91s\tremaining: 5.07s\n",
      "492:\tlearn: 0.0260938\ttotal: 4.92s\tremaining: 5.06s\n",
      "493:\tlearn: 0.0260870\ttotal: 4.93s\tremaining: 5.05s\n"
     ]
    },
    {
     "name": "stdout",
     "output_type": "stream",
     "text": [
      "494:\tlearn: 0.0260433\ttotal: 4.94s\tremaining: 5.04s\n",
      "495:\tlearn: 0.0260255\ttotal: 4.95s\tremaining: 5.03s\n",
      "496:\tlearn: 0.0259818\ttotal: 4.96s\tremaining: 5.02s\n",
      "497:\tlearn: 0.0259655\ttotal: 4.97s\tremaining: 5.01s\n",
      "498:\tlearn: 0.0259367\ttotal: 4.98s\tremaining: 5s\n",
      "499:\tlearn: 0.0259055\ttotal: 4.99s\tremaining: 4.99s\n",
      "500:\tlearn: 0.0258772\ttotal: 5s\tremaining: 4.98s\n",
      "501:\tlearn: 0.0258622\ttotal: 5.01s\tremaining: 4.97s\n",
      "502:\tlearn: 0.0258525\ttotal: 5.01s\tremaining: 4.96s\n",
      "503:\tlearn: 0.0258128\ttotal: 5.03s\tremaining: 4.95s\n",
      "504:\tlearn: 0.0258076\ttotal: 5.03s\tremaining: 4.93s\n",
      "505:\tlearn: 0.0257931\ttotal: 5.04s\tremaining: 4.92s\n",
      "506:\tlearn: 0.0257733\ttotal: 5.05s\tremaining: 4.91s\n",
      "507:\tlearn: 0.0257411\ttotal: 5.06s\tremaining: 4.9s\n",
      "508:\tlearn: 0.0256917\ttotal: 5.07s\tremaining: 4.89s\n",
      "509:\tlearn: 0.0256626\ttotal: 5.08s\tremaining: 4.88s\n",
      "510:\tlearn: 0.0256066\ttotal: 5.09s\tremaining: 4.87s\n",
      "511:\tlearn: 0.0255785\ttotal: 5.1s\tremaining: 4.86s\n",
      "512:\tlearn: 0.0255546\ttotal: 5.11s\tremaining: 4.85s\n",
      "513:\tlearn: 0.0255234\ttotal: 5.13s\tremaining: 4.84s\n",
      "514:\tlearn: 0.0255109\ttotal: 5.14s\tremaining: 4.84s\n",
      "515:\tlearn: 0.0254961\ttotal: 5.15s\tremaining: 4.83s\n",
      "516:\tlearn: 0.0254560\ttotal: 5.16s\tremaining: 4.82s\n",
      "517:\tlearn: 0.0254117\ttotal: 5.17s\tremaining: 4.81s\n",
      "518:\tlearn: 0.0253869\ttotal: 5.18s\tremaining: 4.8s\n",
      "519:\tlearn: 0.0253598\ttotal: 5.19s\tremaining: 4.79s\n",
      "520:\tlearn: 0.0253468\ttotal: 5.2s\tremaining: 4.78s\n",
      "521:\tlearn: 0.0253253\ttotal: 5.21s\tremaining: 4.77s\n",
      "522:\tlearn: 0.0252761\ttotal: 5.22s\tremaining: 4.76s\n",
      "523:\tlearn: 0.0252503\ttotal: 5.23s\tremaining: 4.75s\n",
      "524:\tlearn: 0.0252213\ttotal: 5.24s\tremaining: 4.74s\n",
      "525:\tlearn: 0.0251960\ttotal: 5.25s\tremaining: 4.73s\n",
      "526:\tlearn: 0.0251699\ttotal: 5.26s\tremaining: 4.72s\n",
      "527:\tlearn: 0.0251402\ttotal: 5.26s\tremaining: 4.71s\n",
      "528:\tlearn: 0.0251152\ttotal: 5.28s\tremaining: 4.7s\n",
      "529:\tlearn: 0.0250772\ttotal: 5.28s\tremaining: 4.69s\n",
      "530:\tlearn: 0.0250604\ttotal: 5.29s\tremaining: 4.67s\n",
      "531:\tlearn: 0.0250377\ttotal: 5.3s\tremaining: 4.67s\n",
      "532:\tlearn: 0.0250242\ttotal: 5.31s\tremaining: 4.65s\n",
      "533:\tlearn: 0.0249984\ttotal: 5.32s\tremaining: 4.64s\n",
      "534:\tlearn: 0.0249661\ttotal: 5.33s\tremaining: 4.63s\n",
      "535:\tlearn: 0.0249548\ttotal: 5.34s\tremaining: 4.62s\n",
      "536:\tlearn: 0.0249291\ttotal: 5.35s\tremaining: 4.61s\n",
      "537:\tlearn: 0.0249079\ttotal: 5.36s\tremaining: 4.6s\n",
      "538:\tlearn: 0.0248559\ttotal: 5.37s\tremaining: 4.59s\n",
      "539:\tlearn: 0.0248413\ttotal: 5.38s\tremaining: 4.58s\n",
      "540:\tlearn: 0.0248173\ttotal: 5.39s\tremaining: 4.57s\n",
      "541:\tlearn: 0.0247964\ttotal: 5.4s\tremaining: 4.56s\n",
      "542:\tlearn: 0.0247722\ttotal: 5.41s\tremaining: 4.55s\n",
      "543:\tlearn: 0.0247504\ttotal: 5.42s\tremaining: 4.54s\n",
      "544:\tlearn: 0.0247307\ttotal: 5.43s\tremaining: 4.53s\n",
      "545:\tlearn: 0.0246987\ttotal: 5.44s\tremaining: 4.52s\n",
      "546:\tlearn: 0.0246920\ttotal: 5.45s\tremaining: 4.51s\n",
      "547:\tlearn: 0.0246396\ttotal: 5.46s\tremaining: 4.5s\n",
      "548:\tlearn: 0.0246050\ttotal: 5.47s\tremaining: 4.49s\n",
      "549:\tlearn: 0.0245663\ttotal: 5.48s\tremaining: 4.48s\n",
      "550:\tlearn: 0.0245489\ttotal: 5.49s\tremaining: 4.47s\n",
      "551:\tlearn: 0.0245245\ttotal: 5.5s\tremaining: 4.46s\n",
      "552:\tlearn: 0.0245022\ttotal: 5.51s\tremaining: 4.45s\n",
      "553:\tlearn: 0.0244801\ttotal: 5.52s\tremaining: 4.44s\n",
      "554:\tlearn: 0.0244663\ttotal: 5.53s\tremaining: 4.43s\n",
      "555:\tlearn: 0.0244323\ttotal: 5.54s\tremaining: 4.42s\n",
      "556:\tlearn: 0.0244022\ttotal: 5.55s\tremaining: 4.41s\n",
      "557:\tlearn: 0.0243795\ttotal: 5.56s\tremaining: 4.4s\n",
      "558:\tlearn: 0.0243575\ttotal: 5.56s\tremaining: 4.39s\n",
      "559:\tlearn: 0.0243347\ttotal: 5.57s\tremaining: 4.38s\n",
      "560:\tlearn: 0.0243089\ttotal: 5.58s\tremaining: 4.37s\n",
      "561:\tlearn: 0.0242890\ttotal: 5.59s\tremaining: 4.36s\n",
      "562:\tlearn: 0.0242645\ttotal: 5.61s\tremaining: 4.35s\n",
      "563:\tlearn: 0.0242431\ttotal: 5.62s\tremaining: 4.34s\n",
      "564:\tlearn: 0.0242196\ttotal: 5.63s\tremaining: 4.33s\n",
      "565:\tlearn: 0.0242016\ttotal: 5.63s\tremaining: 4.32s\n",
      "566:\tlearn: 0.0241796\ttotal: 5.64s\tremaining: 4.31s\n",
      "567:\tlearn: 0.0241550\ttotal: 5.65s\tremaining: 4.3s\n",
      "568:\tlearn: 0.0241389\ttotal: 5.66s\tremaining: 4.29s\n",
      "569:\tlearn: 0.0241119\ttotal: 5.67s\tremaining: 4.28s\n",
      "570:\tlearn: 0.0240874\ttotal: 5.69s\tremaining: 4.27s\n",
      "571:\tlearn: 0.0240727\ttotal: 5.7s\tremaining: 4.26s\n",
      "572:\tlearn: 0.0240590\ttotal: 5.71s\tremaining: 4.25s\n",
      "573:\tlearn: 0.0240460\ttotal: 5.72s\tremaining: 4.24s\n",
      "574:\tlearn: 0.0240325\ttotal: 5.73s\tremaining: 4.23s\n",
      "575:\tlearn: 0.0240020\ttotal: 5.74s\tremaining: 4.22s\n",
      "576:\tlearn: 0.0239795\ttotal: 5.75s\tremaining: 4.21s\n",
      "577:\tlearn: 0.0239468\ttotal: 5.75s\tremaining: 4.2s\n",
      "578:\tlearn: 0.0239171\ttotal: 5.76s\tremaining: 4.19s\n",
      "579:\tlearn: 0.0239156\ttotal: 5.77s\tremaining: 4.18s\n",
      "580:\tlearn: 0.0239065\ttotal: 5.78s\tremaining: 4.17s\n",
      "581:\tlearn: 0.0238993\ttotal: 5.79s\tremaining: 4.16s\n",
      "582:\tlearn: 0.0238946\ttotal: 5.8s\tremaining: 4.15s\n",
      "583:\tlearn: 0.0238858\ttotal: 5.81s\tremaining: 4.14s\n",
      "584:\tlearn: 0.0238520\ttotal: 5.82s\tremaining: 4.13s\n",
      "585:\tlearn: 0.0238067\ttotal: 5.83s\tremaining: 4.12s\n",
      "586:\tlearn: 0.0237865\ttotal: 5.84s\tremaining: 4.11s\n",
      "587:\tlearn: 0.0237653\ttotal: 5.85s\tremaining: 4.1s\n",
      "588:\tlearn: 0.0237302\ttotal: 5.86s\tremaining: 4.09s\n",
      "589:\tlearn: 0.0237095\ttotal: 5.87s\tremaining: 4.08s\n",
      "590:\tlearn: 0.0236723\ttotal: 5.88s\tremaining: 4.07s\n",
      "591:\tlearn: 0.0236575\ttotal: 5.88s\tremaining: 4.06s\n",
      "592:\tlearn: 0.0236550\ttotal: 5.89s\tremaining: 4.04s\n",
      "593:\tlearn: 0.0236191\ttotal: 5.9s\tremaining: 4.04s\n",
      "594:\tlearn: 0.0235753\ttotal: 5.92s\tremaining: 4.03s\n",
      "595:\tlearn: 0.0235441\ttotal: 5.92s\tremaining: 4.02s\n",
      "596:\tlearn: 0.0235150\ttotal: 5.93s\tremaining: 4.01s\n",
      "597:\tlearn: 0.0234707\ttotal: 5.94s\tremaining: 4s\n",
      "598:\tlearn: 0.0234517\ttotal: 5.95s\tremaining: 3.98s\n",
      "599:\tlearn: 0.0234296\ttotal: 5.96s\tremaining: 3.97s\n",
      "600:\tlearn: 0.0234130\ttotal: 5.97s\tremaining: 3.96s\n",
      "601:\tlearn: 0.0233965\ttotal: 5.98s\tremaining: 3.95s\n",
      "602:\tlearn: 0.0233800\ttotal: 5.99s\tremaining: 3.94s\n",
      "603:\tlearn: 0.0233777\ttotal: 6s\tremaining: 3.93s\n",
      "604:\tlearn: 0.0233687\ttotal: 6.01s\tremaining: 3.92s\n",
      "605:\tlearn: 0.0233492\ttotal: 6.02s\tremaining: 3.91s\n",
      "606:\tlearn: 0.0233354\ttotal: 6.03s\tremaining: 3.9s\n",
      "607:\tlearn: 0.0233119\ttotal: 6.04s\tremaining: 3.89s\n",
      "608:\tlearn: 0.0232983\ttotal: 6.05s\tremaining: 3.88s\n",
      "609:\tlearn: 0.0232620\ttotal: 6.06s\tremaining: 3.87s\n",
      "610:\tlearn: 0.0232411\ttotal: 6.07s\tremaining: 3.86s\n",
      "611:\tlearn: 0.0232072\ttotal: 6.08s\tremaining: 3.85s\n",
      "612:\tlearn: 0.0231939\ttotal: 6.09s\tremaining: 3.85s\n",
      "613:\tlearn: 0.0231793\ttotal: 6.1s\tremaining: 3.83s\n",
      "614:\tlearn: 0.0231655\ttotal: 6.11s\tremaining: 3.83s\n",
      "615:\tlearn: 0.0231532\ttotal: 6.12s\tremaining: 3.81s\n",
      "616:\tlearn: 0.0231505\ttotal: 6.13s\tremaining: 3.8s\n",
      "617:\tlearn: 0.0231092\ttotal: 6.14s\tremaining: 3.79s\n",
      "618:\tlearn: 0.0230755\ttotal: 6.15s\tremaining: 3.78s\n",
      "619:\tlearn: 0.0230522\ttotal: 6.16s\tremaining: 3.77s\n",
      "620:\tlearn: 0.0230003\ttotal: 6.17s\tremaining: 3.76s\n",
      "621:\tlearn: 0.0229776\ttotal: 6.17s\tremaining: 3.75s\n",
      "622:\tlearn: 0.0229752\ttotal: 6.18s\tremaining: 3.74s\n",
      "623:\tlearn: 0.0229517\ttotal: 6.19s\tremaining: 3.73s\n",
      "624:\tlearn: 0.0229125\ttotal: 6.2s\tremaining: 3.72s\n",
      "625:\tlearn: 0.0229031\ttotal: 6.21s\tremaining: 3.71s\n",
      "626:\tlearn: 0.0228650\ttotal: 6.22s\tremaining: 3.7s\n",
      "627:\tlearn: 0.0228354\ttotal: 6.23s\tremaining: 3.69s\n",
      "628:\tlearn: 0.0228111\ttotal: 6.24s\tremaining: 3.68s\n",
      "629:\tlearn: 0.0227924\ttotal: 6.25s\tremaining: 3.67s\n",
      "630:\tlearn: 0.0227697\ttotal: 6.26s\tremaining: 3.66s\n",
      "631:\tlearn: 0.0227531\ttotal: 6.27s\tremaining: 3.65s\n",
      "632:\tlearn: 0.0227474\ttotal: 6.28s\tremaining: 3.64s\n",
      "633:\tlearn: 0.0227192\ttotal: 6.29s\tremaining: 3.63s\n",
      "634:\tlearn: 0.0227059\ttotal: 6.3s\tremaining: 3.62s\n",
      "635:\tlearn: 0.0226991\ttotal: 6.31s\tremaining: 3.61s\n",
      "636:\tlearn: 0.0226791\ttotal: 6.32s\tremaining: 3.6s\n",
      "637:\tlearn: 0.0226594\ttotal: 6.33s\tremaining: 3.59s\n",
      "638:\tlearn: 0.0226455\ttotal: 6.34s\tremaining: 3.58s\n",
      "639:\tlearn: 0.0226275\ttotal: 6.35s\tremaining: 3.57s\n",
      "640:\tlearn: 0.0226053\ttotal: 6.36s\tremaining: 3.56s\n",
      "641:\tlearn: 0.0225879\ttotal: 6.37s\tremaining: 3.55s\n",
      "642:\tlearn: 0.0225736\ttotal: 6.38s\tremaining: 3.54s\n",
      "643:\tlearn: 0.0225550\ttotal: 6.39s\tremaining: 3.53s\n",
      "644:\tlearn: 0.0225500\ttotal: 6.4s\tremaining: 3.52s\n",
      "645:\tlearn: 0.0225179\ttotal: 6.41s\tremaining: 3.51s\n",
      "646:\tlearn: 0.0224847\ttotal: 6.42s\tremaining: 3.5s\n",
      "647:\tlearn: 0.0224721\ttotal: 6.42s\tremaining: 3.49s\n",
      "648:\tlearn: 0.0224595\ttotal: 6.43s\tremaining: 3.48s\n",
      "649:\tlearn: 0.0224423\ttotal: 6.44s\tremaining: 3.47s\n",
      "650:\tlearn: 0.0224307\ttotal: 6.45s\tremaining: 3.46s\n",
      "651:\tlearn: 0.0223893\ttotal: 6.46s\tremaining: 3.45s\n",
      "652:\tlearn: 0.0223516\ttotal: 6.47s\tremaining: 3.44s\n",
      "653:\tlearn: 0.0223025\ttotal: 6.48s\tremaining: 3.43s\n",
      "654:\tlearn: 0.0222792\ttotal: 6.49s\tremaining: 3.42s\n",
      "655:\tlearn: 0.0222602\ttotal: 6.5s\tremaining: 3.41s\n",
      "656:\tlearn: 0.0222360\ttotal: 6.51s\tremaining: 3.4s\n",
      "657:\tlearn: 0.0222287\ttotal: 6.52s\tremaining: 3.39s\n",
      "658:\tlearn: 0.0222056\ttotal: 6.53s\tremaining: 3.38s\n",
      "659:\tlearn: 0.0221793\ttotal: 6.54s\tremaining: 3.37s\n",
      "660:\tlearn: 0.0221504\ttotal: 6.55s\tremaining: 3.36s\n",
      "661:\tlearn: 0.0221228\ttotal: 6.56s\tremaining: 3.35s\n",
      "662:\tlearn: 0.0220981\ttotal: 6.57s\tremaining: 3.34s\n",
      "663:\tlearn: 0.0220655\ttotal: 6.58s\tremaining: 3.33s\n",
      "664:\tlearn: 0.0220559\ttotal: 6.59s\tremaining: 3.32s\n",
      "665:\tlearn: 0.0220172\ttotal: 6.6s\tremaining: 3.31s\n",
      "666:\tlearn: 0.0220031\ttotal: 6.61s\tremaining: 3.3s\n",
      "667:\tlearn: 0.0219834\ttotal: 6.62s\tremaining: 3.29s\n",
      "668:\tlearn: 0.0219771\ttotal: 6.62s\tremaining: 3.28s\n",
      "669:\tlearn: 0.0219320\ttotal: 6.63s\tremaining: 3.27s\n",
      "670:\tlearn: 0.0219088\ttotal: 6.64s\tremaining: 3.26s\n"
     ]
    },
    {
     "name": "stdout",
     "output_type": "stream",
     "text": [
      "671:\tlearn: 0.0218855\ttotal: 6.66s\tremaining: 3.25s\n",
      "672:\tlearn: 0.0218698\ttotal: 6.67s\tremaining: 3.24s\n",
      "673:\tlearn: 0.0218571\ttotal: 6.68s\tremaining: 3.23s\n",
      "674:\tlearn: 0.0218427\ttotal: 6.69s\tremaining: 3.22s\n",
      "675:\tlearn: 0.0218083\ttotal: 6.7s\tremaining: 3.21s\n",
      "676:\tlearn: 0.0217925\ttotal: 6.71s\tremaining: 3.2s\n",
      "677:\tlearn: 0.0217834\ttotal: 6.72s\tremaining: 3.19s\n",
      "678:\tlearn: 0.0217744\ttotal: 6.73s\tremaining: 3.18s\n",
      "679:\tlearn: 0.0217609\ttotal: 6.74s\tremaining: 3.17s\n",
      "680:\tlearn: 0.0217468\ttotal: 6.75s\tremaining: 3.16s\n",
      "681:\tlearn: 0.0217356\ttotal: 6.76s\tremaining: 3.15s\n",
      "682:\tlearn: 0.0217348\ttotal: 6.77s\tremaining: 3.14s\n",
      "683:\tlearn: 0.0217251\ttotal: 6.78s\tremaining: 3.13s\n",
      "684:\tlearn: 0.0217153\ttotal: 6.79s\tremaining: 3.12s\n",
      "685:\tlearn: 0.0216836\ttotal: 6.81s\tremaining: 3.12s\n",
      "686:\tlearn: 0.0216770\ttotal: 6.82s\tremaining: 3.1s\n",
      "687:\tlearn: 0.0216644\ttotal: 6.83s\tremaining: 3.1s\n",
      "688:\tlearn: 0.0216377\ttotal: 6.83s\tremaining: 3.08s\n",
      "689:\tlearn: 0.0216248\ttotal: 6.84s\tremaining: 3.08s\n",
      "690:\tlearn: 0.0216241\ttotal: 6.86s\tremaining: 3.06s\n",
      "691:\tlearn: 0.0216172\ttotal: 6.86s\tremaining: 3.06s\n",
      "692:\tlearn: 0.0215874\ttotal: 6.87s\tremaining: 3.04s\n",
      "693:\tlearn: 0.0215601\ttotal: 6.88s\tremaining: 3.04s\n",
      "694:\tlearn: 0.0215539\ttotal: 6.89s\tremaining: 3.02s\n",
      "695:\tlearn: 0.0215292\ttotal: 6.9s\tremaining: 3.01s\n",
      "696:\tlearn: 0.0215155\ttotal: 6.91s\tremaining: 3s\n",
      "697:\tlearn: 0.0215096\ttotal: 6.92s\tremaining: 2.99s\n",
      "698:\tlearn: 0.0214946\ttotal: 6.93s\tremaining: 2.98s\n",
      "699:\tlearn: 0.0214811\ttotal: 6.94s\tremaining: 2.97s\n",
      "700:\tlearn: 0.0214698\ttotal: 6.95s\tremaining: 2.96s\n",
      "701:\tlearn: 0.0214512\ttotal: 6.96s\tremaining: 2.95s\n",
      "702:\tlearn: 0.0214333\ttotal: 6.97s\tremaining: 2.94s\n",
      "703:\tlearn: 0.0214099\ttotal: 6.98s\tremaining: 2.93s\n",
      "704:\tlearn: 0.0213818\ttotal: 6.99s\tremaining: 2.92s\n",
      "705:\tlearn: 0.0213652\ttotal: 7s\tremaining: 2.91s\n",
      "706:\tlearn: 0.0213526\ttotal: 7.01s\tremaining: 2.9s\n",
      "707:\tlearn: 0.0213337\ttotal: 7.02s\tremaining: 2.89s\n",
      "708:\tlearn: 0.0213165\ttotal: 7.03s\tremaining: 2.88s\n",
      "709:\tlearn: 0.0212940\ttotal: 7.03s\tremaining: 2.87s\n",
      "710:\tlearn: 0.0212915\ttotal: 7.04s\tremaining: 2.86s\n",
      "711:\tlearn: 0.0212736\ttotal: 7.05s\tremaining: 2.85s\n",
      "712:\tlearn: 0.0212457\ttotal: 7.06s\tremaining: 2.84s\n",
      "713:\tlearn: 0.0212267\ttotal: 7.07s\tremaining: 2.83s\n",
      "714:\tlearn: 0.0212141\ttotal: 7.08s\tremaining: 2.82s\n",
      "715:\tlearn: 0.0211971\ttotal: 7.09s\tremaining: 2.81s\n",
      "716:\tlearn: 0.0211739\ttotal: 7.1s\tremaining: 2.8s\n",
      "717:\tlearn: 0.0211725\ttotal: 7.11s\tremaining: 2.79s\n",
      "718:\tlearn: 0.0211580\ttotal: 7.12s\tremaining: 2.78s\n",
      "719:\tlearn: 0.0211476\ttotal: 7.13s\tremaining: 2.77s\n",
      "720:\tlearn: 0.0211291\ttotal: 7.14s\tremaining: 2.76s\n",
      "721:\tlearn: 0.0211134\ttotal: 7.15s\tremaining: 2.75s\n",
      "722:\tlearn: 0.0211057\ttotal: 7.16s\tremaining: 2.74s\n",
      "723:\tlearn: 0.0210857\ttotal: 7.17s\tremaining: 2.73s\n",
      "724:\tlearn: 0.0210542\ttotal: 7.18s\tremaining: 2.72s\n",
      "725:\tlearn: 0.0210417\ttotal: 7.19s\tremaining: 2.71s\n",
      "726:\tlearn: 0.0210322\ttotal: 7.2s\tremaining: 2.7s\n",
      "727:\tlearn: 0.0210144\ttotal: 7.21s\tremaining: 2.69s\n",
      "728:\tlearn: 0.0209975\ttotal: 7.21s\tremaining: 2.68s\n",
      "729:\tlearn: 0.0209733\ttotal: 7.22s\tremaining: 2.67s\n",
      "730:\tlearn: 0.0209468\ttotal: 7.23s\tremaining: 2.66s\n",
      "731:\tlearn: 0.0209265\ttotal: 7.25s\tremaining: 2.65s\n",
      "732:\tlearn: 0.0209175\ttotal: 7.25s\tremaining: 2.64s\n",
      "733:\tlearn: 0.0208969\ttotal: 7.26s\tremaining: 2.63s\n",
      "734:\tlearn: 0.0208747\ttotal: 7.28s\tremaining: 2.62s\n",
      "735:\tlearn: 0.0208577\ttotal: 7.28s\tremaining: 2.61s\n",
      "736:\tlearn: 0.0208560\ttotal: 7.29s\tremaining: 2.6s\n",
      "737:\tlearn: 0.0208292\ttotal: 7.3s\tremaining: 2.59s\n",
      "738:\tlearn: 0.0208261\ttotal: 7.31s\tremaining: 2.58s\n",
      "739:\tlearn: 0.0208202\ttotal: 7.32s\tremaining: 2.57s\n",
      "740:\tlearn: 0.0208097\ttotal: 7.33s\tremaining: 2.56s\n",
      "741:\tlearn: 0.0207894\ttotal: 7.34s\tremaining: 2.55s\n",
      "742:\tlearn: 0.0207612\ttotal: 7.35s\tremaining: 2.54s\n",
      "743:\tlearn: 0.0207502\ttotal: 7.36s\tremaining: 2.53s\n",
      "744:\tlearn: 0.0207404\ttotal: 7.37s\tremaining: 2.52s\n",
      "745:\tlearn: 0.0207266\ttotal: 7.38s\tremaining: 2.51s\n",
      "746:\tlearn: 0.0207241\ttotal: 7.39s\tremaining: 2.5s\n",
      "747:\tlearn: 0.0207133\ttotal: 7.4s\tremaining: 2.49s\n",
      "748:\tlearn: 0.0207106\ttotal: 7.41s\tremaining: 2.48s\n",
      "749:\tlearn: 0.0206841\ttotal: 7.42s\tremaining: 2.47s\n",
      "750:\tlearn: 0.0206765\ttotal: 7.43s\tremaining: 2.46s\n",
      "751:\tlearn: 0.0206579\ttotal: 7.44s\tremaining: 2.45s\n",
      "752:\tlearn: 0.0206404\ttotal: 7.45s\tremaining: 2.44s\n",
      "753:\tlearn: 0.0206313\ttotal: 7.46s\tremaining: 2.43s\n",
      "754:\tlearn: 0.0206181\ttotal: 7.46s\tremaining: 2.42s\n",
      "755:\tlearn: 0.0206062\ttotal: 7.47s\tremaining: 2.41s\n",
      "756:\tlearn: 0.0205914\ttotal: 7.48s\tremaining: 2.4s\n",
      "757:\tlearn: 0.0205822\ttotal: 7.49s\tremaining: 2.39s\n",
      "758:\tlearn: 0.0205749\ttotal: 7.5s\tremaining: 2.38s\n",
      "759:\tlearn: 0.0205689\ttotal: 7.51s\tremaining: 2.37s\n",
      "760:\tlearn: 0.0205530\ttotal: 7.52s\tremaining: 2.36s\n",
      "761:\tlearn: 0.0205346\ttotal: 7.55s\tremaining: 2.36s\n",
      "762:\tlearn: 0.0205213\ttotal: 7.56s\tremaining: 2.35s\n",
      "763:\tlearn: 0.0204816\ttotal: 7.57s\tremaining: 2.34s\n",
      "764:\tlearn: 0.0204723\ttotal: 7.58s\tremaining: 2.33s\n",
      "765:\tlearn: 0.0204549\ttotal: 7.59s\tremaining: 2.32s\n",
      "766:\tlearn: 0.0204407\ttotal: 7.6s\tremaining: 2.31s\n",
      "767:\tlearn: 0.0204195\ttotal: 7.61s\tremaining: 2.3s\n",
      "768:\tlearn: 0.0204123\ttotal: 7.62s\tremaining: 2.29s\n",
      "769:\tlearn: 0.0204031\ttotal: 7.63s\tremaining: 2.28s\n",
      "770:\tlearn: 0.0203873\ttotal: 7.64s\tremaining: 2.27s\n",
      "771:\tlearn: 0.0203541\ttotal: 7.65s\tremaining: 2.26s\n",
      "772:\tlearn: 0.0203343\ttotal: 7.66s\tremaining: 2.25s\n",
      "773:\tlearn: 0.0203175\ttotal: 7.67s\tremaining: 2.24s\n",
      "774:\tlearn: 0.0202926\ttotal: 7.68s\tremaining: 2.23s\n",
      "775:\tlearn: 0.0202705\ttotal: 7.69s\tremaining: 2.22s\n",
      "776:\tlearn: 0.0202489\ttotal: 7.7s\tremaining: 2.21s\n",
      "777:\tlearn: 0.0202344\ttotal: 7.71s\tremaining: 2.2s\n",
      "778:\tlearn: 0.0202326\ttotal: 7.72s\tremaining: 2.19s\n",
      "779:\tlearn: 0.0201911\ttotal: 7.73s\tremaining: 2.18s\n",
      "780:\tlearn: 0.0201814\ttotal: 7.74s\tremaining: 2.17s\n",
      "781:\tlearn: 0.0201505\ttotal: 7.75s\tremaining: 2.16s\n",
      "782:\tlearn: 0.0201323\ttotal: 7.76s\tremaining: 2.15s\n",
      "783:\tlearn: 0.0201086\ttotal: 7.76s\tremaining: 2.14s\n",
      "784:\tlearn: 0.0200937\ttotal: 7.78s\tremaining: 2.13s\n",
      "785:\tlearn: 0.0200622\ttotal: 7.79s\tremaining: 2.12s\n",
      "786:\tlearn: 0.0200301\ttotal: 7.8s\tremaining: 2.11s\n",
      "787:\tlearn: 0.0200067\ttotal: 7.81s\tremaining: 2.1s\n",
      "788:\tlearn: 0.0199911\ttotal: 7.82s\tremaining: 2.09s\n",
      "789:\tlearn: 0.0199619\ttotal: 7.83s\tremaining: 2.08s\n",
      "790:\tlearn: 0.0199417\ttotal: 7.83s\tremaining: 2.07s\n",
      "791:\tlearn: 0.0199298\ttotal: 7.84s\tremaining: 2.06s\n",
      "792:\tlearn: 0.0199142\ttotal: 7.86s\tremaining: 2.05s\n",
      "793:\tlearn: 0.0199004\ttotal: 7.86s\tremaining: 2.04s\n",
      "794:\tlearn: 0.0198958\ttotal: 7.87s\tremaining: 2.03s\n",
      "795:\tlearn: 0.0198681\ttotal: 7.88s\tremaining: 2.02s\n",
      "796:\tlearn: 0.0198527\ttotal: 7.89s\tremaining: 2.01s\n",
      "797:\tlearn: 0.0198336\ttotal: 7.9s\tremaining: 2s\n",
      "798:\tlearn: 0.0198223\ttotal: 7.91s\tremaining: 1.99s\n",
      "799:\tlearn: 0.0198113\ttotal: 7.92s\tremaining: 1.98s\n",
      "800:\tlearn: 0.0198001\ttotal: 7.93s\tremaining: 1.97s\n",
      "801:\tlearn: 0.0197614\ttotal: 7.94s\tremaining: 1.96s\n",
      "802:\tlearn: 0.0197383\ttotal: 7.95s\tremaining: 1.95s\n",
      "803:\tlearn: 0.0197324\ttotal: 7.96s\tremaining: 1.94s\n",
      "804:\tlearn: 0.0197194\ttotal: 7.97s\tremaining: 1.93s\n",
      "805:\tlearn: 0.0197094\ttotal: 7.98s\tremaining: 1.92s\n",
      "806:\tlearn: 0.0196795\ttotal: 7.99s\tremaining: 1.91s\n",
      "807:\tlearn: 0.0196477\ttotal: 8s\tremaining: 1.9s\n",
      "808:\tlearn: 0.0196278\ttotal: 8.01s\tremaining: 1.89s\n",
      "809:\tlearn: 0.0196186\ttotal: 8.03s\tremaining: 1.88s\n",
      "810:\tlearn: 0.0196022\ttotal: 8.04s\tremaining: 1.87s\n",
      "811:\tlearn: 0.0195715\ttotal: 8.05s\tremaining: 1.86s\n",
      "812:\tlearn: 0.0195545\ttotal: 8.06s\tremaining: 1.85s\n",
      "813:\tlearn: 0.0195414\ttotal: 8.07s\tremaining: 1.84s\n",
      "814:\tlearn: 0.0195150\ttotal: 8.08s\tremaining: 1.83s\n",
      "815:\tlearn: 0.0194999\ttotal: 8.09s\tremaining: 1.82s\n",
      "816:\tlearn: 0.0194851\ttotal: 8.1s\tremaining: 1.81s\n",
      "817:\tlearn: 0.0194688\ttotal: 8.1s\tremaining: 1.8s\n",
      "818:\tlearn: 0.0194530\ttotal: 8.11s\tremaining: 1.79s\n",
      "819:\tlearn: 0.0194338\ttotal: 8.12s\tremaining: 1.78s\n",
      "820:\tlearn: 0.0194160\ttotal: 8.13s\tremaining: 1.77s\n",
      "821:\tlearn: 0.0193937\ttotal: 8.14s\tremaining: 1.76s\n",
      "822:\tlearn: 0.0193733\ttotal: 8.15s\tremaining: 1.75s\n",
      "823:\tlearn: 0.0193533\ttotal: 8.16s\tremaining: 1.74s\n",
      "824:\tlearn: 0.0193431\ttotal: 8.17s\tremaining: 1.73s\n",
      "825:\tlearn: 0.0193161\ttotal: 8.18s\tremaining: 1.72s\n",
      "826:\tlearn: 0.0193043\ttotal: 8.19s\tremaining: 1.71s\n",
      "827:\tlearn: 0.0192817\ttotal: 8.2s\tremaining: 1.7s\n",
      "828:\tlearn: 0.0192727\ttotal: 8.21s\tremaining: 1.69s\n",
      "829:\tlearn: 0.0192493\ttotal: 8.22s\tremaining: 1.68s\n",
      "830:\tlearn: 0.0192345\ttotal: 8.23s\tremaining: 1.67s\n",
      "831:\tlearn: 0.0192128\ttotal: 8.24s\tremaining: 1.66s\n",
      "832:\tlearn: 0.0191853\ttotal: 8.25s\tremaining: 1.65s\n",
      "833:\tlearn: 0.0191696\ttotal: 8.26s\tremaining: 1.64s\n",
      "834:\tlearn: 0.0191669\ttotal: 8.27s\tremaining: 1.63s\n",
      "835:\tlearn: 0.0191471\ttotal: 8.28s\tremaining: 1.62s\n",
      "836:\tlearn: 0.0191238\ttotal: 8.29s\tremaining: 1.61s\n",
      "837:\tlearn: 0.0191117\ttotal: 8.3s\tremaining: 1.6s\n",
      "838:\tlearn: 0.0190872\ttotal: 8.31s\tremaining: 1.59s\n",
      "839:\tlearn: 0.0190773\ttotal: 8.32s\tremaining: 1.58s\n",
      "840:\tlearn: 0.0190609\ttotal: 8.33s\tremaining: 1.57s\n",
      "841:\tlearn: 0.0190493\ttotal: 8.34s\tremaining: 1.56s\n",
      "842:\tlearn: 0.0190251\ttotal: 8.35s\tremaining: 1.55s\n",
      "843:\tlearn: 0.0190092\ttotal: 8.36s\tremaining: 1.54s\n",
      "844:\tlearn: 0.0189870\ttotal: 8.37s\tremaining: 1.53s\n",
      "845:\tlearn: 0.0189709\ttotal: 8.38s\tremaining: 1.52s\n"
     ]
    },
    {
     "name": "stdout",
     "output_type": "stream",
     "text": [
      "846:\tlearn: 0.0189540\ttotal: 8.38s\tremaining: 1.51s\n",
      "847:\tlearn: 0.0189276\ttotal: 8.4s\tremaining: 1.5s\n",
      "848:\tlearn: 0.0189183\ttotal: 8.4s\tremaining: 1.49s\n",
      "849:\tlearn: 0.0188986\ttotal: 8.41s\tremaining: 1.49s\n",
      "850:\tlearn: 0.0188825\ttotal: 8.43s\tremaining: 1.48s\n",
      "851:\tlearn: 0.0188693\ttotal: 8.44s\tremaining: 1.47s\n",
      "852:\tlearn: 0.0188530\ttotal: 8.45s\tremaining: 1.46s\n",
      "853:\tlearn: 0.0188324\ttotal: 8.45s\tremaining: 1.45s\n",
      "854:\tlearn: 0.0188173\ttotal: 8.46s\tremaining: 1.44s\n",
      "855:\tlearn: 0.0188097\ttotal: 8.48s\tremaining: 1.43s\n",
      "856:\tlearn: 0.0187905\ttotal: 8.49s\tremaining: 1.42s\n",
      "857:\tlearn: 0.0187799\ttotal: 8.5s\tremaining: 1.41s\n",
      "858:\tlearn: 0.0187697\ttotal: 8.51s\tremaining: 1.4s\n",
      "859:\tlearn: 0.0187555\ttotal: 8.52s\tremaining: 1.39s\n",
      "860:\tlearn: 0.0187344\ttotal: 8.53s\tremaining: 1.38s\n",
      "861:\tlearn: 0.0187171\ttotal: 8.54s\tremaining: 1.37s\n",
      "862:\tlearn: 0.0187053\ttotal: 8.55s\tremaining: 1.36s\n",
      "863:\tlearn: 0.0186906\ttotal: 8.56s\tremaining: 1.35s\n",
      "864:\tlearn: 0.0186717\ttotal: 8.57s\tremaining: 1.34s\n",
      "865:\tlearn: 0.0186532\ttotal: 8.58s\tremaining: 1.33s\n",
      "866:\tlearn: 0.0186395\ttotal: 8.59s\tremaining: 1.32s\n",
      "867:\tlearn: 0.0186144\ttotal: 8.6s\tremaining: 1.31s\n",
      "868:\tlearn: 0.0185899\ttotal: 8.61s\tremaining: 1.3s\n",
      "869:\tlearn: 0.0185727\ttotal: 8.62s\tremaining: 1.29s\n",
      "870:\tlearn: 0.0185586\ttotal: 8.63s\tremaining: 1.28s\n",
      "871:\tlearn: 0.0185469\ttotal: 8.64s\tremaining: 1.27s\n",
      "872:\tlearn: 0.0185279\ttotal: 8.65s\tremaining: 1.26s\n",
      "873:\tlearn: 0.0184998\ttotal: 8.66s\tremaining: 1.25s\n",
      "874:\tlearn: 0.0184911\ttotal: 8.67s\tremaining: 1.24s\n",
      "875:\tlearn: 0.0184806\ttotal: 8.68s\tremaining: 1.23s\n",
      "876:\tlearn: 0.0184676\ttotal: 8.69s\tremaining: 1.22s\n",
      "877:\tlearn: 0.0184540\ttotal: 8.7s\tremaining: 1.21s\n",
      "878:\tlearn: 0.0184174\ttotal: 8.71s\tremaining: 1.2s\n",
      "879:\tlearn: 0.0183982\ttotal: 8.72s\tremaining: 1.19s\n",
      "880:\tlearn: 0.0183716\ttotal: 8.73s\tremaining: 1.18s\n",
      "881:\tlearn: 0.0183652\ttotal: 8.74s\tremaining: 1.17s\n",
      "882:\tlearn: 0.0183357\ttotal: 8.75s\tremaining: 1.16s\n",
      "883:\tlearn: 0.0182852\ttotal: 8.76s\tremaining: 1.15s\n",
      "884:\tlearn: 0.0182658\ttotal: 8.77s\tremaining: 1.14s\n",
      "885:\tlearn: 0.0182420\ttotal: 8.78s\tremaining: 1.13s\n",
      "886:\tlearn: 0.0182258\ttotal: 8.79s\tremaining: 1.12s\n",
      "887:\tlearn: 0.0182163\ttotal: 8.8s\tremaining: 1.11s\n",
      "888:\tlearn: 0.0182067\ttotal: 8.81s\tremaining: 1.1s\n",
      "889:\tlearn: 0.0181931\ttotal: 8.82s\tremaining: 1.09s\n",
      "890:\tlearn: 0.0181783\ttotal: 8.83s\tremaining: 1.08s\n",
      "891:\tlearn: 0.0181661\ttotal: 8.84s\tremaining: 1.07s\n",
      "892:\tlearn: 0.0181594\ttotal: 8.85s\tremaining: 1.06s\n",
      "893:\tlearn: 0.0181497\ttotal: 8.86s\tremaining: 1.05s\n",
      "894:\tlearn: 0.0181347\ttotal: 8.87s\tremaining: 1.04s\n",
      "895:\tlearn: 0.0181228\ttotal: 8.88s\tremaining: 1.03s\n",
      "896:\tlearn: 0.0181119\ttotal: 8.89s\tremaining: 1.02s\n",
      "897:\tlearn: 0.0181043\ttotal: 8.89s\tremaining: 1.01s\n",
      "898:\tlearn: 0.0180828\ttotal: 8.9s\tremaining: 1s\n",
      "899:\tlearn: 0.0180702\ttotal: 8.91s\tremaining: 991ms\n",
      "900:\tlearn: 0.0180610\ttotal: 8.92s\tremaining: 981ms\n",
      "901:\tlearn: 0.0180226\ttotal: 8.93s\tremaining: 971ms\n",
      "902:\tlearn: 0.0180113\ttotal: 8.94s\tremaining: 961ms\n",
      "903:\tlearn: 0.0179869\ttotal: 8.95s\tremaining: 951ms\n",
      "904:\tlearn: 0.0179764\ttotal: 8.96s\tremaining: 941ms\n",
      "905:\tlearn: 0.0179620\ttotal: 8.97s\tremaining: 931ms\n",
      "906:\tlearn: 0.0179425\ttotal: 8.98s\tremaining: 921ms\n",
      "907:\tlearn: 0.0179304\ttotal: 8.99s\tremaining: 911ms\n",
      "908:\tlearn: 0.0179197\ttotal: 9s\tremaining: 901ms\n",
      "909:\tlearn: 0.0179035\ttotal: 9.02s\tremaining: 892ms\n",
      "910:\tlearn: 0.0178847\ttotal: 9.02s\tremaining: 882ms\n",
      "911:\tlearn: 0.0178688\ttotal: 9.04s\tremaining: 872ms\n",
      "912:\tlearn: 0.0178456\ttotal: 9.04s\tremaining: 862ms\n",
      "913:\tlearn: 0.0178314\ttotal: 9.05s\tremaining: 852ms\n",
      "914:\tlearn: 0.0178177\ttotal: 9.06s\tremaining: 842ms\n",
      "915:\tlearn: 0.0178017\ttotal: 9.07s\tremaining: 832ms\n",
      "916:\tlearn: 0.0177862\ttotal: 9.08s\tremaining: 822ms\n",
      "917:\tlearn: 0.0177602\ttotal: 9.09s\tremaining: 812ms\n",
      "918:\tlearn: 0.0177442\ttotal: 9.1s\tremaining: 802ms\n",
      "919:\tlearn: 0.0177313\ttotal: 9.11s\tremaining: 792ms\n",
      "920:\tlearn: 0.0177226\ttotal: 9.12s\tremaining: 782ms\n",
      "921:\tlearn: 0.0177053\ttotal: 9.13s\tremaining: 772ms\n",
      "922:\tlearn: 0.0176895\ttotal: 9.14s\tremaining: 763ms\n",
      "923:\tlearn: 0.0176678\ttotal: 9.15s\tremaining: 753ms\n",
      "924:\tlearn: 0.0176525\ttotal: 9.16s\tremaining: 743ms\n",
      "925:\tlearn: 0.0176335\ttotal: 9.17s\tremaining: 733ms\n",
      "926:\tlearn: 0.0176235\ttotal: 9.18s\tremaining: 723ms\n",
      "927:\tlearn: 0.0176019\ttotal: 9.19s\tremaining: 713ms\n",
      "928:\tlearn: 0.0175833\ttotal: 9.2s\tremaining: 703ms\n",
      "929:\tlearn: 0.0175667\ttotal: 9.21s\tremaining: 693ms\n",
      "930:\tlearn: 0.0175447\ttotal: 9.22s\tremaining: 683ms\n",
      "931:\tlearn: 0.0175284\ttotal: 9.23s\tremaining: 673ms\n",
      "932:\tlearn: 0.0175138\ttotal: 9.24s\tremaining: 663ms\n",
      "933:\tlearn: 0.0175093\ttotal: 9.25s\tremaining: 653ms\n",
      "934:\tlearn: 0.0174969\ttotal: 9.26s\tremaining: 643ms\n",
      "935:\tlearn: 0.0174849\ttotal: 9.26s\tremaining: 634ms\n",
      "936:\tlearn: 0.0174634\ttotal: 9.28s\tremaining: 624ms\n",
      "937:\tlearn: 0.0174335\ttotal: 9.29s\tremaining: 614ms\n",
      "938:\tlearn: 0.0174141\ttotal: 9.29s\tremaining: 604ms\n",
      "939:\tlearn: 0.0174049\ttotal: 9.3s\tremaining: 594ms\n",
      "940:\tlearn: 0.0173847\ttotal: 9.32s\tremaining: 585ms\n",
      "941:\tlearn: 0.0173697\ttotal: 9.33s\tremaining: 575ms\n",
      "942:\tlearn: 0.0173445\ttotal: 9.34s\tremaining: 565ms\n",
      "943:\tlearn: 0.0173312\ttotal: 9.35s\tremaining: 555ms\n",
      "944:\tlearn: 0.0173179\ttotal: 9.36s\tremaining: 545ms\n",
      "945:\tlearn: 0.0173040\ttotal: 9.38s\tremaining: 536ms\n",
      "946:\tlearn: 0.0172917\ttotal: 9.39s\tremaining: 526ms\n",
      "947:\tlearn: 0.0172851\ttotal: 9.4s\tremaining: 516ms\n",
      "948:\tlearn: 0.0172678\ttotal: 9.41s\tremaining: 506ms\n",
      "949:\tlearn: 0.0172491\ttotal: 9.42s\tremaining: 496ms\n",
      "950:\tlearn: 0.0172394\ttotal: 9.43s\tremaining: 486ms\n",
      "951:\tlearn: 0.0172292\ttotal: 9.44s\tremaining: 476ms\n",
      "952:\tlearn: 0.0172018\ttotal: 9.45s\tremaining: 466ms\n",
      "953:\tlearn: 0.0171805\ttotal: 9.46s\tremaining: 456ms\n",
      "954:\tlearn: 0.0171593\ttotal: 9.47s\tremaining: 446ms\n",
      "955:\tlearn: 0.0171419\ttotal: 9.48s\tremaining: 436ms\n",
      "956:\tlearn: 0.0171394\ttotal: 9.48s\tremaining: 426ms\n",
      "957:\tlearn: 0.0171275\ttotal: 9.49s\tremaining: 416ms\n",
      "958:\tlearn: 0.0171108\ttotal: 9.5s\tremaining: 406ms\n",
      "959:\tlearn: 0.0170963\ttotal: 9.51s\tremaining: 396ms\n",
      "960:\tlearn: 0.0170899\ttotal: 9.52s\tremaining: 386ms\n",
      "961:\tlearn: 0.0170837\ttotal: 9.53s\tremaining: 376ms\n",
      "962:\tlearn: 0.0170684\ttotal: 9.54s\tremaining: 367ms\n",
      "963:\tlearn: 0.0170649\ttotal: 9.55s\tremaining: 357ms\n",
      "964:\tlearn: 0.0170493\ttotal: 9.56s\tremaining: 347ms\n",
      "965:\tlearn: 0.0170314\ttotal: 9.57s\tremaining: 337ms\n",
      "966:\tlearn: 0.0170170\ttotal: 9.58s\tremaining: 327ms\n",
      "967:\tlearn: 0.0170077\ttotal: 9.59s\tremaining: 317ms\n",
      "968:\tlearn: 0.0169962\ttotal: 9.6s\tremaining: 307ms\n",
      "969:\tlearn: 0.0169852\ttotal: 9.61s\tremaining: 297ms\n",
      "970:\tlearn: 0.0169668\ttotal: 9.62s\tremaining: 287ms\n",
      "971:\tlearn: 0.0169599\ttotal: 9.63s\tremaining: 277ms\n",
      "972:\tlearn: 0.0169461\ttotal: 9.64s\tremaining: 268ms\n",
      "973:\tlearn: 0.0169323\ttotal: 9.65s\tremaining: 258ms\n",
      "974:\tlearn: 0.0169216\ttotal: 9.66s\tremaining: 248ms\n",
      "975:\tlearn: 0.0168996\ttotal: 9.67s\tremaining: 238ms\n",
      "976:\tlearn: 0.0168839\ttotal: 9.68s\tremaining: 228ms\n",
      "977:\tlearn: 0.0168729\ttotal: 9.68s\tremaining: 218ms\n",
      "978:\tlearn: 0.0168626\ttotal: 9.69s\tremaining: 208ms\n",
      "979:\tlearn: 0.0168359\ttotal: 9.7s\tremaining: 198ms\n",
      "980:\tlearn: 0.0168226\ttotal: 9.71s\tremaining: 188ms\n",
      "981:\tlearn: 0.0168172\ttotal: 9.72s\tremaining: 178ms\n",
      "982:\tlearn: 0.0168024\ttotal: 9.73s\tremaining: 168ms\n",
      "983:\tlearn: 0.0167957\ttotal: 9.74s\tremaining: 158ms\n",
      "984:\tlearn: 0.0167905\ttotal: 9.75s\tremaining: 148ms\n",
      "985:\tlearn: 0.0167795\ttotal: 9.76s\tremaining: 139ms\n",
      "986:\tlearn: 0.0167504\ttotal: 9.77s\tremaining: 129ms\n",
      "987:\tlearn: 0.0167331\ttotal: 9.78s\tremaining: 119ms\n",
      "988:\tlearn: 0.0167223\ttotal: 9.78s\tremaining: 109ms\n",
      "989:\tlearn: 0.0167044\ttotal: 9.79s\tremaining: 98.9ms\n",
      "990:\tlearn: 0.0166848\ttotal: 9.8s\tremaining: 89ms\n",
      "991:\tlearn: 0.0166802\ttotal: 9.81s\tremaining: 79.1ms\n",
      "992:\tlearn: 0.0166673\ttotal: 9.82s\tremaining: 69.2ms\n",
      "993:\tlearn: 0.0166602\ttotal: 9.83s\tremaining: 59.3ms\n",
      "994:\tlearn: 0.0166488\ttotal: 9.84s\tremaining: 49.5ms\n",
      "995:\tlearn: 0.0166285\ttotal: 9.85s\tremaining: 39.6ms\n",
      "996:\tlearn: 0.0166191\ttotal: 9.86s\tremaining: 29.7ms\n",
      "997:\tlearn: 0.0166047\ttotal: 9.87s\tremaining: 19.8ms\n",
      "998:\tlearn: 0.0165910\ttotal: 9.88s\tremaining: 9.89ms\n",
      "999:\tlearn: 0.0165851\ttotal: 9.89s\tremaining: 0us\n"
     ]
    }
   ],
   "source": [
    "from catboost import CatBoostClassifier\n",
    "\n",
    "# train the model on train set\n",
    "catb = CatBoostClassifier()\n",
    "catb.fit(X_train, y_train)\n",
    "y_pred = catb.predict(X_test)"
   ]
  },
  {
   "cell_type": "code",
   "execution_count": 236,
   "id": "8cd50760",
   "metadata": {},
   "outputs": [],
   "source": [
    "score=100*(metrics.f1_score(y_test,y_pred,average='macro'))"
   ]
  },
  {
   "cell_type": "code",
   "execution_count": 237,
   "id": "dd19d31d",
   "metadata": {},
   "outputs": [
    {
     "data": {
      "text/plain": [
       "91.47496599962369"
      ]
     },
     "execution_count": 237,
     "metadata": {},
     "output_type": "execute_result"
    }
   ],
   "source": [
    "score"
   ]
  },
  {
   "cell_type": "markdown",
   "id": "8d2916fc",
   "metadata": {},
   "source": [
    "## Nueral Networks"
   ]
  },
  {
   "cell_type": "code",
   "execution_count": 395,
   "id": "8f5cb48d",
   "metadata": {},
   "outputs": [],
   "source": [
    "from keras.models import Sequential\n",
    "from keras.layers import Dense\n",
    "from keras.layers import LeakyReLU"
   ]
  },
  {
   "cell_type": "code",
   "execution_count": 396,
   "id": "30ea3304",
   "metadata": {},
   "outputs": [],
   "source": [
    "model=Sequential()\n",
    "model.add(Dense(35,activation=\"relu\"))\n",
    "# model.add(Dense(20,activation=\"relu\"))\n",
    "model.add(Dense(20,activation=\"relu\"))\n",
    "model.add(Dense(10,activation=\"relu\"))\n",
    "model.add(Dense(10,activation=\"relu\"))\n",
    "model.add(Dense(5,activation=\"relu\"))\n",
    "model.add(Dense(1,activation=\"sigmoid\"))\n",
    "\n",
    "model.compile(optimizer = 'adam', loss = 'binary_crossentropy',metrics=\"accuracy\")"
   ]
  },
  {
   "cell_type": "code",
   "execution_count": 397,
   "id": "fe48d777",
   "metadata": {},
   "outputs": [
    {
     "name": "stdout",
     "output_type": "stream",
     "text": [
      "Epoch 1/25\n",
      "936/936 [==============================] - 3s 2ms/step - loss: 0.1508 - accuracy: 0.9457\n",
      "Epoch 2/25\n",
      "936/936 [==============================] - 2s 2ms/step - loss: 0.0689 - accuracy: 0.9760\n",
      "Epoch 3/25\n",
      "936/936 [==============================] - 2s 2ms/step - loss: 0.0658 - accuracy: 0.9766\n",
      "Epoch 4/25\n",
      "936/936 [==============================] - 2s 2ms/step - loss: 0.0639 - accuracy: 0.9766\n",
      "Epoch 5/25\n",
      "936/936 [==============================] - 2s 2ms/step - loss: 0.0590 - accuracy: 0.9767\n",
      "Epoch 6/25\n",
      "936/936 [==============================] - 2s 2ms/step - loss: 0.0590 - accuracy: 0.9771\n",
      "Epoch 7/25\n",
      "936/936 [==============================] - 2s 2ms/step - loss: 0.0576 - accuracy: 0.9769\n",
      "Epoch 8/25\n",
      "936/936 [==============================] - 2s 2ms/step - loss: 0.0568 - accuracy: 0.9774\n",
      "Epoch 9/25\n",
      "936/936 [==============================] - 2s 2ms/step - loss: 0.0570 - accuracy: 0.9769\n",
      "Epoch 10/25\n",
      "936/936 [==============================] - 2s 2ms/step - loss: 0.0567 - accuracy: 0.9768\n",
      "Epoch 11/25\n",
      "936/936 [==============================] - 2s 2ms/step - loss: 0.0555 - accuracy: 0.9773\n",
      "Epoch 12/25\n",
      "936/936 [==============================] - 2s 2ms/step - loss: 0.0560 - accuracy: 0.9771\n",
      "Epoch 13/25\n",
      "936/936 [==============================] - 2s 2ms/step - loss: 0.0540 - accuracy: 0.9773\n",
      "Epoch 14/25\n",
      "936/936 [==============================] - 2s 2ms/step - loss: 0.0541 - accuracy: 0.9776\n",
      "Epoch 15/25\n",
      "936/936 [==============================] - 2s 2ms/step - loss: 0.0544 - accuracy: 0.9780\n",
      "Epoch 16/25\n",
      "936/936 [==============================] - 2s 2ms/step - loss: 0.0536 - accuracy: 0.9777\n",
      "Epoch 17/25\n",
      "936/936 [==============================] - 2s 2ms/step - loss: 0.0547 - accuracy: 0.9770\n",
      "Epoch 18/25\n",
      "936/936 [==============================] - 2s 2ms/step - loss: 0.0536 - accuracy: 0.9776\n",
      "Epoch 19/25\n",
      "936/936 [==============================] - 2s 2ms/step - loss: 0.0519 - accuracy: 0.9779\n",
      "Epoch 20/25\n",
      "936/936 [==============================] - 2s 2ms/step - loss: 0.0550 - accuracy: 0.9774\n",
      "Epoch 21/25\n",
      "936/936 [==============================] - 2s 2ms/step - loss: 0.0533 - accuracy: 0.9763\n",
      "Epoch 22/25\n",
      "936/936 [==============================] - 2s 2ms/step - loss: 0.0525 - accuracy: 0.9769\n",
      "Epoch 23/25\n",
      "936/936 [==============================] - 2s 2ms/step - loss: 0.0531 - accuracy: 0.9773\n",
      "Epoch 24/25\n",
      "936/936 [==============================] - 2s 2ms/step - loss: 0.0529 - accuracy: 0.9776\n",
      "Epoch 25/25\n",
      "936/936 [==============================] - 2s 2ms/step - loss: 0.0525 - accuracy: 0.9775\n"
     ]
    },
    {
     "data": {
      "text/plain": [
       "<keras.callbacks.History at 0x1a2bcfced90>"
      ]
     },
     "execution_count": 397,
     "metadata": {},
     "output_type": "execute_result"
    }
   ],
   "source": [
    "model.fit(X_train, y_train, batch_size = 32, epochs = 25)"
   ]
  },
  {
   "cell_type": "code",
   "execution_count": 398,
   "id": "9dca4ad7",
   "metadata": {},
   "outputs": [],
   "source": [
    "y_pred=model.predict(X_test)"
   ]
  },
  {
   "cell_type": "code",
   "execution_count": 399,
   "id": "92536abb",
   "metadata": {},
   "outputs": [],
   "source": [
    "for i in range(len(y_pred)):\n",
    "  if y_pred[i]>0.5:\n",
    "    y_pred[i]=1\n",
    "  else:\n",
    "    y_pred[i]=0"
   ]
  },
  {
   "cell_type": "code",
   "execution_count": 400,
   "id": "3fb5bd71",
   "metadata": {},
   "outputs": [],
   "source": [
    "score=100*(metrics.f1_score(y_test,y_pred,average='macro'))"
   ]
  },
  {
   "cell_type": "code",
   "execution_count": 401,
   "id": "a393c444",
   "metadata": {},
   "outputs": [
    {
     "data": {
      "text/plain": [
       "93.36479806255619"
      ]
     },
     "execution_count": 401,
     "metadata": {},
     "output_type": "execute_result"
    }
   ],
   "source": [
    "score #91.79124 (Online score)"
   ]
  },
  {
   "cell_type": "markdown",
   "id": "bff9876a",
   "metadata": {},
   "source": [
    "## Checking on actual test data"
   ]
  },
  {
   "cell_type": "code",
   "execution_count": 202,
   "id": "94620b62",
   "metadata": {},
   "outputs": [],
   "source": [
    "test_df=pd.read_csv(\"test.csv\")"
   ]
  },
  {
   "cell_type": "code",
   "execution_count": 203,
   "id": "19bb3877",
   "metadata": {},
   "outputs": [
    {
     "data": {
      "text/html": [
       "<div>\n",
       "<style scoped>\n",
       "    .dataframe tbody tr th:only-of-type {\n",
       "        vertical-align: middle;\n",
       "    }\n",
       "\n",
       "    .dataframe tbody tr th {\n",
       "        vertical-align: top;\n",
       "    }\n",
       "\n",
       "    .dataframe thead th {\n",
       "        text-align: right;\n",
       "    }\n",
       "</style>\n",
       "<table border=\"1\" class=\"dataframe\">\n",
       "  <thead>\n",
       "    <tr style=\"text-align: right;\">\n",
       "      <th></th>\n",
       "      <th>customer_id</th>\n",
       "      <th>name</th>\n",
       "      <th>age</th>\n",
       "      <th>gender</th>\n",
       "      <th>owns_car</th>\n",
       "      <th>owns_house</th>\n",
       "      <th>no_of_children</th>\n",
       "      <th>net_yearly_income</th>\n",
       "      <th>no_of_days_employed</th>\n",
       "      <th>occupation_type</th>\n",
       "      <th>total_family_members</th>\n",
       "      <th>migrant_worker</th>\n",
       "      <th>yearly_debt_payments</th>\n",
       "      <th>credit_limit</th>\n",
       "      <th>credit_limit_used(%)</th>\n",
       "      <th>credit_score</th>\n",
       "      <th>prev_defaults</th>\n",
       "      <th>default_in_last_6months</th>\n",
       "    </tr>\n",
       "  </thead>\n",
       "  <tbody>\n",
       "    <tr>\n",
       "      <th>0</th>\n",
       "      <td>CST_142525</td>\n",
       "      <td>Siva</td>\n",
       "      <td>52</td>\n",
       "      <td>F</td>\n",
       "      <td>Y</td>\n",
       "      <td>N</td>\n",
       "      <td>0.0</td>\n",
       "      <td>232640.53</td>\n",
       "      <td>998.0</td>\n",
       "      <td>Unknown</td>\n",
       "      <td>2.0</td>\n",
       "      <td>0.0</td>\n",
       "      <td>14406.73</td>\n",
       "      <td>26524.40</td>\n",
       "      <td>4</td>\n",
       "      <td>779.0</td>\n",
       "      <td>0</td>\n",
       "      <td>0</td>\n",
       "    </tr>\n",
       "    <tr>\n",
       "      <th>1</th>\n",
       "      <td>CST_129215</td>\n",
       "      <td>Scott</td>\n",
       "      <td>48</td>\n",
       "      <td>F</td>\n",
       "      <td>N</td>\n",
       "      <td>N</td>\n",
       "      <td>1.0</td>\n",
       "      <td>284396.79</td>\n",
       "      <td>1338.0</td>\n",
       "      <td>Unknown</td>\n",
       "      <td>3.0</td>\n",
       "      <td>0.0</td>\n",
       "      <td>57479.99</td>\n",
       "      <td>68998.72</td>\n",
       "      <td>70</td>\n",
       "      <td>806.0</td>\n",
       "      <td>0</td>\n",
       "      <td>0</td>\n",
       "    </tr>\n",
       "    <tr>\n",
       "      <th>2</th>\n",
       "      <td>CST_138443</td>\n",
       "      <td>Victoria</td>\n",
       "      <td>50</td>\n",
       "      <td>F</td>\n",
       "      <td>N</td>\n",
       "      <td>N</td>\n",
       "      <td>1.0</td>\n",
       "      <td>149419.28</td>\n",
       "      <td>1210.0</td>\n",
       "      <td>Unknown</td>\n",
       "      <td>3.0</td>\n",
       "      <td>0.0</td>\n",
       "      <td>21611.01</td>\n",
       "      <td>25187.80</td>\n",
       "      <td>71</td>\n",
       "      <td>528.0</td>\n",
       "      <td>2</td>\n",
       "      <td>0</td>\n",
       "    </tr>\n",
       "    <tr>\n",
       "      <th>3</th>\n",
       "      <td>CST_123812</td>\n",
       "      <td>John McCrank</td>\n",
       "      <td>30</td>\n",
       "      <td>F</td>\n",
       "      <td>N</td>\n",
       "      <td>N</td>\n",
       "      <td>1.0</td>\n",
       "      <td>160437.54</td>\n",
       "      <td>503.0</td>\n",
       "      <td>Laborers</td>\n",
       "      <td>2.0</td>\n",
       "      <td>1.0</td>\n",
       "      <td>28990.76</td>\n",
       "      <td>29179.39</td>\n",
       "      <td>9</td>\n",
       "      <td>815.0</td>\n",
       "      <td>0</td>\n",
       "      <td>0</td>\n",
       "    </tr>\n",
       "    <tr>\n",
       "      <th>4</th>\n",
       "      <td>CST_144450</td>\n",
       "      <td>Martinne</td>\n",
       "      <td>52</td>\n",
       "      <td>M</td>\n",
       "      <td>N</td>\n",
       "      <td>Y</td>\n",
       "      <td>0.0</td>\n",
       "      <td>233480.37</td>\n",
       "      <td>157.0</td>\n",
       "      <td>Laborers</td>\n",
       "      <td>2.0</td>\n",
       "      <td>1.0</td>\n",
       "      <td>54213.72</td>\n",
       "      <td>82331.82</td>\n",
       "      <td>82</td>\n",
       "      <td>613.0</td>\n",
       "      <td>1</td>\n",
       "      <td>1</td>\n",
       "    </tr>\n",
       "  </tbody>\n",
       "</table>\n",
       "</div>"
      ],
      "text/plain": [
       "  customer_id          name  age gender owns_car owns_house  no_of_children  \\\n",
       "0  CST_142525          Siva   52      F        Y          N             0.0   \n",
       "1  CST_129215         Scott   48      F        N          N             1.0   \n",
       "2  CST_138443      Victoria   50      F        N          N             1.0   \n",
       "3  CST_123812  John McCrank   30      F        N          N             1.0   \n",
       "4  CST_144450      Martinne   52      M        N          Y             0.0   \n",
       "\n",
       "   net_yearly_income  no_of_days_employed occupation_type  \\\n",
       "0          232640.53                998.0         Unknown   \n",
       "1          284396.79               1338.0         Unknown   \n",
       "2          149419.28               1210.0         Unknown   \n",
       "3          160437.54                503.0        Laborers   \n",
       "4          233480.37                157.0        Laborers   \n",
       "\n",
       "   total_family_members  migrant_worker  yearly_debt_payments  credit_limit  \\\n",
       "0                   2.0             0.0              14406.73      26524.40   \n",
       "1                   3.0             0.0              57479.99      68998.72   \n",
       "2                   3.0             0.0              21611.01      25187.80   \n",
       "3                   2.0             1.0              28990.76      29179.39   \n",
       "4                   2.0             1.0              54213.72      82331.82   \n",
       "\n",
       "   credit_limit_used(%)  credit_score  prev_defaults  default_in_last_6months  \n",
       "0                     4         779.0              0                        0  \n",
       "1                    70         806.0              0                        0  \n",
       "2                    71         528.0              2                        0  \n",
       "3                     9         815.0              0                        0  \n",
       "4                    82         613.0              1                        1  "
      ]
     },
     "execution_count": 203,
     "metadata": {},
     "output_type": "execute_result"
    }
   ],
   "source": [
    "test_df.head()"
   ]
  },
  {
   "cell_type": "code",
   "execution_count": 204,
   "id": "57532f04",
   "metadata": {},
   "outputs": [
    {
     "name": "stdout",
     "output_type": "stream",
     "text": [
      "<class 'pandas.core.frame.DataFrame'>\n",
      "RangeIndex: 11383 entries, 0 to 11382\n",
      "Data columns (total 18 columns):\n",
      " #   Column                   Non-Null Count  Dtype  \n",
      "---  ------                   --------------  -----  \n",
      " 0   customer_id              11383 non-null  object \n",
      " 1   name                     11383 non-null  object \n",
      " 2   age                      11383 non-null  int64  \n",
      " 3   gender                   11383 non-null  object \n",
      " 4   owns_car                 11251 non-null  object \n",
      " 5   owns_house               11383 non-null  object \n",
      " 6   no_of_children           11193 non-null  float64\n",
      " 7   net_yearly_income        11383 non-null  float64\n",
      " 8   no_of_days_employed      11278 non-null  float64\n",
      " 9   occupation_type          11383 non-null  object \n",
      " 10  total_family_members     11352 non-null  float64\n",
      " 11  migrant_worker           11357 non-null  float64\n",
      " 12  yearly_debt_payments     11361 non-null  float64\n",
      " 13  credit_limit             11383 non-null  float64\n",
      " 14  credit_limit_used(%)     11383 non-null  int64  \n",
      " 15  credit_score             11380 non-null  float64\n",
      " 16  prev_defaults            11383 non-null  int64  \n",
      " 17  default_in_last_6months  11383 non-null  int64  \n",
      "dtypes: float64(8), int64(4), object(6)\n",
      "memory usage: 1.6+ MB\n"
     ]
    }
   ],
   "source": [
    "test_df.info()"
   ]
  },
  {
   "cell_type": "code",
   "execution_count": 205,
   "id": "67eab8b0",
   "metadata": {},
   "outputs": [
    {
     "data": {
      "text/plain": [
       "customer_id                  0\n",
       "name                         0\n",
       "age                          0\n",
       "gender                       0\n",
       "owns_car                   132\n",
       "owns_house                   0\n",
       "no_of_children             190\n",
       "net_yearly_income            0\n",
       "no_of_days_employed        105\n",
       "occupation_type              0\n",
       "total_family_members        31\n",
       "migrant_worker              26\n",
       "yearly_debt_payments        22\n",
       "credit_limit                 0\n",
       "credit_limit_used(%)         0\n",
       "credit_score                 3\n",
       "prev_defaults                0\n",
       "default_in_last_6months      0\n",
       "dtype: int64"
      ]
     },
     "execution_count": 205,
     "metadata": {},
     "output_type": "execute_result"
    }
   ],
   "source": [
    "test_df.isnull().sum()"
   ]
  },
  {
   "cell_type": "code",
   "execution_count": 206,
   "id": "06ab25c9",
   "metadata": {},
   "outputs": [
    {
     "data": {
      "text/plain": [
       "F      7443\n",
       "M      3939\n",
       "XNA       1\n",
       "Name: gender, dtype: int64"
      ]
     },
     "execution_count": 206,
     "metadata": {},
     "output_type": "execute_result"
    }
   ],
   "source": [
    "test_df['gender'].value_counts()"
   ]
  },
  {
   "cell_type": "code",
   "execution_count": 207,
   "id": "0a422841",
   "metadata": {},
   "outputs": [
    {
     "data": {
      "text/plain": [
       "N    7372\n",
       "Y    3879\n",
       "Name: owns_car, dtype: int64"
      ]
     },
     "execution_count": 207,
     "metadata": {},
     "output_type": "execute_result"
    }
   ],
   "source": [
    "test_df['owns_car'].value_counts()"
   ]
  },
  {
   "cell_type": "code",
   "execution_count": 208,
   "id": "ded1bd6c",
   "metadata": {},
   "outputs": [],
   "source": [
    "#Fill null values with most occuring value\n",
    "test_df['owns_car'].fillna('N',inplace=True)"
   ]
  },
  {
   "cell_type": "code",
   "execution_count": 209,
   "id": "a9ef49e5",
   "metadata": {},
   "outputs": [],
   "source": [
    "test_df=pd.get_dummies(test_df, columns = ['occupation_type'],drop_first=True)"
   ]
  },
  {
   "cell_type": "code",
   "execution_count": 210,
   "id": "c2e8c30b",
   "metadata": {},
   "outputs": [],
   "source": [
    "test_df['gender']= label_encoder.fit_transform(test_df['gender'])\n",
    "test_df['owns_car']= label_encoder.fit_transform(test_df['owns_car'])\n",
    "test_df['owns_house']= label_encoder.fit_transform(test_df['owns_house'])"
   ]
  },
  {
   "cell_type": "code",
   "execution_count": 211,
   "id": "d15aba99",
   "metadata": {},
   "outputs": [
    {
     "data": {
      "text/plain": [
       "customer_id                                0\n",
       "name                                       0\n",
       "age                                        0\n",
       "gender                                     0\n",
       "owns_car                                   0\n",
       "owns_house                                 0\n",
       "no_of_children                           190\n",
       "net_yearly_income                          0\n",
       "no_of_days_employed                      105\n",
       "total_family_members                      31\n",
       "migrant_worker                            26\n",
       "yearly_debt_payments                      22\n",
       "credit_limit                               0\n",
       "credit_limit_used(%)                       0\n",
       "credit_score                               3\n",
       "prev_defaults                              0\n",
       "default_in_last_6months                    0\n",
       "occupation_type_Cleaning staff             0\n",
       "occupation_type_Cooking staff              0\n",
       "occupation_type_Core staff                 0\n",
       "occupation_type_Drivers                    0\n",
       "occupation_type_HR staff                   0\n",
       "occupation_type_High skill tech staff      0\n",
       "occupation_type_IT staff                   0\n",
       "occupation_type_Laborers                   0\n",
       "occupation_type_Low-skill Laborers         0\n",
       "occupation_type_Managers                   0\n",
       "occupation_type_Medicine staff             0\n",
       "occupation_type_Private service staff      0\n",
       "occupation_type_Realty agents              0\n",
       "occupation_type_Sales staff                0\n",
       "occupation_type_Secretaries                0\n",
       "occupation_type_Security staff             0\n",
       "occupation_type_Unknown                    0\n",
       "occupation_type_Waiters/barmen staff       0\n",
       "dtype: int64"
      ]
     },
     "execution_count": 211,
     "metadata": {},
     "output_type": "execute_result"
    }
   ],
   "source": [
    "test_df.isnull().sum()"
   ]
  },
  {
   "cell_type": "code",
   "execution_count": 212,
   "id": "f9a5b0c0",
   "metadata": {},
   "outputs": [],
   "source": [
    "test_df['no_of_children'].fillna(test_df['no_of_children'].median(),inplace=True)\n",
    "test_df['no_of_days_employed'].fillna(test_df['no_of_days_employed'].median(),inplace=True)\n",
    "test_df['total_family_members'].fillna(test_df['total_family_members'].median(),inplace=True)\n",
    "test_df['migrant_worker'].fillna(test_df['migrant_worker'].median(),inplace=True)\n",
    "test_df['yearly_debt_payments'].fillna(test_df['yearly_debt_payments'].median(),inplace=True)\n",
    "test_df['credit_score'].fillna(test_df['credit_score'].median(),inplace=True)"
   ]
  },
  {
   "cell_type": "code",
   "execution_count": 213,
   "id": "a8fb5cc9",
   "metadata": {},
   "outputs": [],
   "source": [
    "test_df['net_yearly_income']=zscore(test_df['net_yearly_income'])\n",
    "test_df['no_of_days_employed']=zscore(test_df['no_of_days_employed'])\n",
    "test_df['yearly_debt_payments']=zscore(test_df['yearly_debt_payments'])\n",
    "test_df['credit_limit']=zscore(test_df['credit_limit'])\n",
    "test_df['credit_score']=zscore(test_df['credit_score'])"
   ]
  },
  {
   "cell_type": "code",
   "execution_count": 433,
   "id": "19bda946",
   "metadata": {},
   "outputs": [],
   "source": [
    "y_pred = classifier1.predict(test_df[col])"
   ]
  },
  {
   "cell_type": "code",
   "execution_count": 415,
   "id": "6e17a83b",
   "metadata": {},
   "outputs": [],
   "source": [
    "for i in range(len(y_pred)):\n",
    "  if y_pred[i]>0.5:\n",
    "    y_pred[i]=1\n",
    "  else:\n",
    "    y_pred[i]=0\n",
    "y_pred=y_pred.astype('int64')"
   ]
  },
  {
   "cell_type": "code",
   "execution_count": 434,
   "id": "9a53167d",
   "metadata": {},
   "outputs": [],
   "source": [
    "predicted=pd.DataFrame(y_pred)"
   ]
  },
  {
   "cell_type": "code",
   "execution_count": 435,
   "id": "cb78e928",
   "metadata": {},
   "outputs": [],
   "source": [
    "result=pd.DataFrame(test_df['customer_id']).join(predicted)"
   ]
  },
  {
   "cell_type": "code",
   "execution_count": 436,
   "id": "51fc2dd9",
   "metadata": {},
   "outputs": [],
   "source": [
    "result.columns=['customer_id','credit_card_default']"
   ]
  },
  {
   "cell_type": "code",
   "execution_count": 437,
   "id": "c1ccd419",
   "metadata": {},
   "outputs": [
    {
     "data": {
      "text/html": [
       "<div>\n",
       "<style scoped>\n",
       "    .dataframe tbody tr th:only-of-type {\n",
       "        vertical-align: middle;\n",
       "    }\n",
       "\n",
       "    .dataframe tbody tr th {\n",
       "        vertical-align: top;\n",
       "    }\n",
       "\n",
       "    .dataframe thead th {\n",
       "        text-align: right;\n",
       "    }\n",
       "</style>\n",
       "<table border=\"1\" class=\"dataframe\">\n",
       "  <thead>\n",
       "    <tr style=\"text-align: right;\">\n",
       "      <th></th>\n",
       "      <th>customer_id</th>\n",
       "      <th>credit_card_default</th>\n",
       "    </tr>\n",
       "  </thead>\n",
       "  <tbody>\n",
       "    <tr>\n",
       "      <th>0</th>\n",
       "      <td>CST_142525</td>\n",
       "      <td>0</td>\n",
       "    </tr>\n",
       "    <tr>\n",
       "      <th>1</th>\n",
       "      <td>CST_129215</td>\n",
       "      <td>0</td>\n",
       "    </tr>\n",
       "    <tr>\n",
       "      <th>2</th>\n",
       "      <td>CST_138443</td>\n",
       "      <td>1</td>\n",
       "    </tr>\n",
       "    <tr>\n",
       "      <th>3</th>\n",
       "      <td>CST_123812</td>\n",
       "      <td>0</td>\n",
       "    </tr>\n",
       "    <tr>\n",
       "      <th>4</th>\n",
       "      <td>CST_144450</td>\n",
       "      <td>1</td>\n",
       "    </tr>\n",
       "    <tr>\n",
       "      <th>...</th>\n",
       "      <td>...</td>\n",
       "      <td>...</td>\n",
       "    </tr>\n",
       "    <tr>\n",
       "      <th>11378</th>\n",
       "      <td>CST_142412</td>\n",
       "      <td>0</td>\n",
       "    </tr>\n",
       "    <tr>\n",
       "      <th>11379</th>\n",
       "      <td>CST_107967</td>\n",
       "      <td>0</td>\n",
       "    </tr>\n",
       "    <tr>\n",
       "      <th>11380</th>\n",
       "      <td>CST_134002</td>\n",
       "      <td>0</td>\n",
       "    </tr>\n",
       "    <tr>\n",
       "      <th>11381</th>\n",
       "      <td>CST_146856</td>\n",
       "      <td>0</td>\n",
       "    </tr>\n",
       "    <tr>\n",
       "      <th>11382</th>\n",
       "      <td>CST_112001</td>\n",
       "      <td>0</td>\n",
       "    </tr>\n",
       "  </tbody>\n",
       "</table>\n",
       "<p>11383 rows × 2 columns</p>\n",
       "</div>"
      ],
      "text/plain": [
       "      customer_id  credit_card_default\n",
       "0      CST_142525                    0\n",
       "1      CST_129215                    0\n",
       "2      CST_138443                    1\n",
       "3      CST_123812                    0\n",
       "4      CST_144450                    1\n",
       "...           ...                  ...\n",
       "11378  CST_142412                    0\n",
       "11379  CST_107967                    0\n",
       "11380  CST_134002                    0\n",
       "11381  CST_146856                    0\n",
       "11382  CST_112001                    0\n",
       "\n",
       "[11383 rows x 2 columns]"
      ]
     },
     "execution_count": 437,
     "metadata": {},
     "output_type": "execute_result"
    }
   ],
   "source": [
    "result"
   ]
  },
  {
   "cell_type": "markdown",
   "id": "df966eda",
   "metadata": {},
   "source": [
    "## Export dafaframe to excel file"
   ]
  },
  {
   "cell_type": "code",
   "execution_count": 438,
   "id": "e283725a",
   "metadata": {},
   "outputs": [],
   "source": [
    "# saving the dataframe\n",
    "result.to_csv('submissions.csv', index=False)"
   ]
  },
  {
   "cell_type": "code",
   "execution_count": 439,
   "id": "420a83d9",
   "metadata": {},
   "outputs": [],
   "source": [
    "submissions=pd.read_csv(\"submissions.csv\")"
   ]
  },
  {
   "cell_type": "code",
   "execution_count": 440,
   "id": "fd18abd5",
   "metadata": {},
   "outputs": [
    {
     "data": {
      "text/html": [
       "<div>\n",
       "<style scoped>\n",
       "    .dataframe tbody tr th:only-of-type {\n",
       "        vertical-align: middle;\n",
       "    }\n",
       "\n",
       "    .dataframe tbody tr th {\n",
       "        vertical-align: top;\n",
       "    }\n",
       "\n",
       "    .dataframe thead th {\n",
       "        text-align: right;\n",
       "    }\n",
       "</style>\n",
       "<table border=\"1\" class=\"dataframe\">\n",
       "  <thead>\n",
       "    <tr style=\"text-align: right;\">\n",
       "      <th></th>\n",
       "      <th>customer_id</th>\n",
       "      <th>credit_card_default</th>\n",
       "    </tr>\n",
       "  </thead>\n",
       "  <tbody>\n",
       "    <tr>\n",
       "      <th>0</th>\n",
       "      <td>CST_142525</td>\n",
       "      <td>0</td>\n",
       "    </tr>\n",
       "    <tr>\n",
       "      <th>1</th>\n",
       "      <td>CST_129215</td>\n",
       "      <td>0</td>\n",
       "    </tr>\n",
       "    <tr>\n",
       "      <th>2</th>\n",
       "      <td>CST_138443</td>\n",
       "      <td>1</td>\n",
       "    </tr>\n",
       "    <tr>\n",
       "      <th>3</th>\n",
       "      <td>CST_123812</td>\n",
       "      <td>0</td>\n",
       "    </tr>\n",
       "    <tr>\n",
       "      <th>4</th>\n",
       "      <td>CST_144450</td>\n",
       "      <td>1</td>\n",
       "    </tr>\n",
       "  </tbody>\n",
       "</table>\n",
       "</div>"
      ],
      "text/plain": [
       "  customer_id  credit_card_default\n",
       "0  CST_142525                    0\n",
       "1  CST_129215                    0\n",
       "2  CST_138443                    1\n",
       "3  CST_123812                    0\n",
       "4  CST_144450                    1"
      ]
     },
     "execution_count": 440,
     "metadata": {},
     "output_type": "execute_result"
    }
   ],
   "source": [
    "submissions.head()"
   ]
  },
  {
   "cell_type": "code",
   "execution_count": 441,
   "id": "e5e6a739",
   "metadata": {},
   "outputs": [
    {
     "data": {
      "text/plain": [
       "(11383, 2)"
      ]
     },
     "execution_count": 441,
     "metadata": {},
     "output_type": "execute_result"
    }
   ],
   "source": [
    "submissions.shape"
   ]
  }
 ],
 "metadata": {
  "kernelspec": {
   "display_name": "Python 3",
   "language": "python",
   "name": "python3"
  },
  "language_info": {
   "codemirror_mode": {
    "name": "ipython",
    "version": 3
   },
   "file_extension": ".py",
   "mimetype": "text/x-python",
   "name": "python",
   "nbconvert_exporter": "python",
   "pygments_lexer": "ipython3",
   "version": "3.8.8"
  }
 },
 "nbformat": 4,
 "nbformat_minor": 5
}
